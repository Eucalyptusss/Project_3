{
 "cells": [
  {
   "cell_type": "code",
   "execution_count": 436,
   "metadata": {
    "ExecuteTime": {
     "end_time": "2021-09-27T16:47:32.658705Z",
     "start_time": "2021-09-27T16:47:32.653256Z"
    }
   },
   "outputs": [],
   "source": [
    "import pandas as pd\n",
    "import numpy as np\n",
    "from xgboost import XGBRFClassifier, XGBClassifier, plot_importance\n",
    "from sklearn.model_selection import (\n",
    "                train_test_split, cross_val_score, cross_validate,\n",
    "                GridSearchCV, RandomizedSearchCV              \n",
    ")\n",
    "from sklearn.preprocessing import StandardScaler, OneHotEncoder\n",
    "from sklearn.metrics import (accuracy_score, auc, roc_auc_score, roc_curve, \n",
    "                            confusion_matrix, f1_score, precision_score, \n",
    "                            plot_confusion_matrix, recall_score, classification_report\n",
    "                            )\n",
    "import matplotlib.pyplot as plt\n",
    "from sklearn.naive_bayes import (GaussianNB, BernoulliNB\n",
    "                                )\n",
    "from sklearn.linear_model import LogisticRegression, RidgeClassifier, Lasso\n",
    "from sklearn import svm\n",
    "from sklearn.neighbors import KNeighborsClassifier\n",
    "from sklearn.pipeline import Pipeline\n",
    "from sklearn.compose import ColumnTransformer\n",
    "from sklearn.ensemble import RandomForestClassifier\n",
    "from treeinterpreter import treeinterpreter as ti"
   ]
  },
  {
   "cell_type": "markdown",
   "metadata": {},
   "source": [
    "# Business Understanding"
   ]
  },
  {
   "cell_type": "markdown",
   "metadata": {},
   "source": [
    "## Taarifa has collected data regarding water sources in Tanzania. In order to save the government of Tanzania money I will determine which factors are most likely to cause water pump failure. To do this I will construct a machine learning model that will predict if a water source is faulty or not. Once I have confirmed my model is reliable, I will break down which independent variables are most correlated with faulty water sources. This will allow water source providers to more about why their water pumps are failing."
   ]
  },
  {
   "cell_type": "markdown",
   "metadata": {},
   "source": [
    "# Business Problem"
   ]
  },
  {
   "cell_type": "markdown",
   "metadata": {},
   "source": [
    "## The government of Tanzania is obligated to provide accessible clean water to it's citizens. However, they are spending too much money for maintenance & repair on the water sources. By determining the leading causes in a faulty water pump the government can prevent mechanical errors. Preventing the faulty pump phenomena will save the government money. Additionally, this data may produce results that are valuable to any organization that builds water pumps."
   ]
  },
  {
   "cell_type": "markdown",
   "metadata": {},
   "source": [
    "# Functions"
   ]
  },
  {
   "cell_type": "code",
   "execution_count": 2,
   "metadata": {
    "ExecuteTime": {
     "end_time": "2021-09-22T19:31:18.405009Z",
     "start_time": "2021-09-22T19:31:18.401643Z"
    }
   },
   "outputs": [],
   "source": [
    "def cross_validate_model(clf, X_train, y_train):\n",
    "    \"\"\"\n",
    "    Prints train and test accuracy scores from a cross_validate.\n",
    "    \n",
    "    IN:\n",
    "        -clf : classifier\n",
    "        -X_train: train x variables\n",
    "        -y_train: train target values   \n",
    "    \"\"\"\n",
    "    baseline_scores = cross_validate(\n",
    "    estimator=clf,\n",
    "    X=X_train,\n",
    "    y=y_train,\n",
    "    return_train_score=True,\n",
    "    cv=5,\n",
    "    scoring='accuracy'\n",
    "\n",
    ")\n",
    "\n",
    "    print(\"Train score:     \", baseline_scores[\"train_score\"].mean())\n",
    "    print(\"Test score:\", baseline_scores[\"test_score\"].mean())"
   ]
  },
  {
   "cell_type": "code",
   "execution_count": 3,
   "metadata": {
    "ExecuteTime": {
     "end_time": "2021-09-22T19:31:18.410846Z",
     "start_time": "2021-09-22T19:31:18.407413Z"
    }
   },
   "outputs": [],
   "source": [
    "def determine_len_unique_vals(col):\n",
    "    \"\"\" \n",
    "    returns len(col.unique())   \n",
    "    \"\"\"\n",
    "    \n",
    "    return len(col.unique())\n",
    "    "
   ]
  },
  {
   "cell_type": "code",
   "execution_count": 4,
   "metadata": {
    "ExecuteTime": {
     "end_time": "2021-09-22T19:31:18.417286Z",
     "start_time": "2021-09-22T19:31:18.413655Z"
    }
   },
   "outputs": [],
   "source": [
    "def display_confusion_matrix(clf, X, y):\n",
    "    \"\"\"\n",
    "    returns confustion_matrix after calling plot_confustion_matrix\n",
    "    from sklearn.\n",
    "    IN:\n",
    "        -clf : classifier\n",
    "        -X: train x variables\n",
    "        -y: train target values   \n",
    "    \n",
    "    \"\"\"\n",
    "    \n",
    "    disp = plot_confusion_matrix(clf, X, y,\n",
    "                                 display_labels=y_test.unique(), \n",
    "                                 cmap=plt.cm.Blues)\n",
    "\n",
    "    return(disp.confusion_matrix)\n",
    "    "
   ]
  },
  {
   "cell_type": "code",
   "execution_count": 5,
   "metadata": {
    "ExecuteTime": {
     "end_time": "2021-09-22T19:31:18.423016Z",
     "start_time": "2021-09-22T19:31:18.419665Z"
    }
   },
   "outputs": [],
   "source": [
    "def remove_low_value_counts(df, num_vals_low_limit, column_name):\n",
    "    \"\"\"\n",
    "    Reshapes df after removing indices where the column_name's value counts > num_vals_low_limit\n",
    "    \n",
    "    IN:\n",
    "        -df: Dataframe you want trimmed\n",
    "        -num_vals_low_limit: col.value_counts() > num_vals_low_limit will be removed\n",
    "        -column_name: Name of column. Must be in df.\n",
    "    OUT:\n",
    "        -trimmed df\n",
    "       \n",
    "    \"\"\"\n",
    "    \n",
    "    counts = df[column_name].value_counts()\n",
    "    new_df = df.loc[df[column_name].isin(counts.index[counts > num_vals_low_limit])]\n",
    "    return new_df \n",
    "        "
   ]
  },
  {
   "cell_type": "markdown",
   "metadata": {},
   "source": [
    "# The Data\n",
    "\n",
    "\n",
    "amount_tsh - Total static head (amount water available to waterpoint)\n",
    "\n",
    "date_recorded - The date the row was entered\n",
    "\n",
    "funder - Who funded the well\n",
    "\n",
    "gps_height - Altitude of the well\n",
    "\n",
    "installer - Organization that installed the well\n",
    "\n",
    "longitude - GPS coordinate\n",
    "\n",
    "latitude - GPS coordinate\n",
    "\n",
    "wpt_name - Name of the waterpoint if there is one\n",
    "\n",
    "num_private -\n",
    "\n",
    "basin - Geographic water basin\n",
    "\n",
    "subvillage - Geographic location\n",
    "\n",
    "region - Geographic location\n",
    "\n",
    "region_code - Geographic location (coded)\n",
    "\n",
    "district_code - Geographic location (coded)\n",
    "\n",
    "lga - Geographic location\n",
    "\n",
    "ward - Geographic location\n",
    "\n",
    "population - Population around the well\n",
    "\n",
    "public_meeting - True/False\n",
    "\n",
    "recorded_by - Group entering this row of data\n",
    "\n",
    "scheme_management - Who operates the waterpoint\n",
    "\n",
    "scheme_name - Who operates the waterpoint\n",
    "\n",
    "permit - If the waterpoint is permitted\n",
    "\n",
    "construction_year - Year the waterpoint was constructed\n",
    "\n",
    "extraction_type - The kind of extraction the waterpoint uses\n",
    "\n",
    "extraction_type_group - The kind of extraction the waterpoint uses\n",
    "\n",
    "extraction_type_class - The kind of extraction the waterpoint uses\n",
    "\n",
    "management - How the waterpoint is managed\n",
    "\n",
    "management_group - How the waterpoint is managed\n",
    "\n",
    "payment - What the water costs\n",
    "\n",
    "payment_type - What the water costs\n",
    "\n",
    "water_quality - The quality of the water\n",
    "\n",
    "quality_group - The quality of the water\n",
    "\n",
    "quantity - The quantity of water\n",
    "\n",
    "quantity_group - The quantity of water\n",
    "\n",
    "source - The source of the water\n",
    "\n",
    "source_type - The source of the water\n",
    "\n",
    "source_class - The source of the water\n",
    "\n",
    "waterpoint_type - The kind of waterpoint\n",
    "\n",
    "waterpoint_type_group - The kind of waterpoint"
   ]
  },
  {
   "cell_type": "markdown",
   "metadata": {},
   "source": [
    "# Obtain"
   ]
  },
  {
   "cell_type": "code",
   "execution_count": 6,
   "metadata": {
    "ExecuteTime": {
     "end_time": "2021-09-22T19:31:18.907052Z",
     "start_time": "2021-09-22T19:31:18.425915Z"
    }
   },
   "outputs": [],
   "source": [
    "target_labels = pd.read_csv('0bf8bc6e-30d0-4c50-956a-603fc693d966.csv')\n",
    "data = pd.read_csv('4910797b-ee55-40a7-8668-10efd5c1b960 (1).csv')"
   ]
  },
  {
   "cell_type": "markdown",
   "metadata": {},
   "source": [
    "# Explore"
   ]
  },
  {
   "cell_type": "code",
   "execution_count": 7,
   "metadata": {
    "ExecuteTime": {
     "end_time": "2021-09-22T19:31:18.985518Z",
     "start_time": "2021-09-22T19:31:18.908640Z"
    }
   },
   "outputs": [
    {
     "name": "stdout",
     "output_type": "stream",
     "text": [
      "<class 'pandas.core.frame.DataFrame'>\n",
      "RangeIndex: 59400 entries, 0 to 59399\n",
      "Data columns (total 40 columns):\n",
      " #   Column                 Non-Null Count  Dtype  \n",
      "---  ------                 --------------  -----  \n",
      " 0   id                     59400 non-null  int64  \n",
      " 1   amount_tsh             59400 non-null  float64\n",
      " 2   date_recorded          59400 non-null  object \n",
      " 3   funder                 55765 non-null  object \n",
      " 4   gps_height             59400 non-null  int64  \n",
      " 5   installer              55745 non-null  object \n",
      " 6   longitude              59400 non-null  float64\n",
      " 7   latitude               59400 non-null  float64\n",
      " 8   wpt_name               59400 non-null  object \n",
      " 9   num_private            59400 non-null  int64  \n",
      " 10  basin                  59400 non-null  object \n",
      " 11  subvillage             59029 non-null  object \n",
      " 12  region                 59400 non-null  object \n",
      " 13  region_code            59400 non-null  int64  \n",
      " 14  district_code          59400 non-null  int64  \n",
      " 15  lga                    59400 non-null  object \n",
      " 16  ward                   59400 non-null  object \n",
      " 17  population             59400 non-null  int64  \n",
      " 18  public_meeting         56066 non-null  object \n",
      " 19  recorded_by            59400 non-null  object \n",
      " 20  scheme_management      55523 non-null  object \n",
      " 21  scheme_name            31234 non-null  object \n",
      " 22  permit                 56344 non-null  object \n",
      " 23  construction_year      59400 non-null  int64  \n",
      " 24  extraction_type        59400 non-null  object \n",
      " 25  extraction_type_group  59400 non-null  object \n",
      " 26  extraction_type_class  59400 non-null  object \n",
      " 27  management             59400 non-null  object \n",
      " 28  management_group       59400 non-null  object \n",
      " 29  payment                59400 non-null  object \n",
      " 30  payment_type           59400 non-null  object \n",
      " 31  water_quality          59400 non-null  object \n",
      " 32  quality_group          59400 non-null  object \n",
      " 33  quantity               59400 non-null  object \n",
      " 34  quantity_group         59400 non-null  object \n",
      " 35  source                 59400 non-null  object \n",
      " 36  source_type            59400 non-null  object \n",
      " 37  source_class           59400 non-null  object \n",
      " 38  waterpoint_type        59400 non-null  object \n",
      " 39  waterpoint_type_group  59400 non-null  object \n",
      "dtypes: float64(3), int64(7), object(30)\n",
      "memory usage: 18.1+ MB\n"
     ]
    }
   ],
   "source": [
    "data.info()"
   ]
  },
  {
   "cell_type": "markdown",
   "metadata": {},
   "source": [
    "### Columns with NaN are: \n",
    "- funder\n",
    "\n",
    "- installer\n",
    "\n",
    "- subvillage\n",
    "\n",
    "- public_meeting\n",
    "\n",
    "- scheme_management\n",
    "\n",
    "- scheme_name\n",
    "\n",
    "- permit\n"
   ]
  },
  {
   "cell_type": "markdown",
   "metadata": {},
   "source": [
    "#### funder, I will replace the NaN values with the string Unknown"
   ]
  },
  {
   "cell_type": "code",
   "execution_count": 8,
   "metadata": {
    "ExecuteTime": {
     "end_time": "2021-09-22T19:31:19.009690Z",
     "start_time": "2021-09-22T19:31:19.001009Z"
    }
   },
   "outputs": [
    {
     "data": {
      "text/plain": [
       "3635"
      ]
     },
     "execution_count": 8,
     "metadata": {},
     "output_type": "execute_result"
    }
   ],
   "source": [
    "#Amount of NaN values\n",
    "data.funder.isna().sum()"
   ]
  },
  {
   "cell_type": "code",
   "execution_count": 9,
   "metadata": {
    "ExecuteTime": {
     "end_time": "2021-09-22T19:31:19.018319Z",
     "start_time": "2021-09-22T19:31:19.012744Z"
    }
   },
   "outputs": [],
   "source": [
    "#Replace NaN values with string 'Unknown'\n",
    "data.funder.fillna('Unknown', inplace=True)"
   ]
  },
  {
   "cell_type": "code",
   "execution_count": 10,
   "metadata": {
    "ExecuteTime": {
     "end_time": "2021-09-22T19:31:19.027851Z",
     "start_time": "2021-09-22T19:31:19.020373Z"
    }
   },
   "outputs": [
    {
     "data": {
      "text/plain": [
       "0"
      ]
     },
     "execution_count": 10,
     "metadata": {},
     "output_type": "execute_result"
    }
   ],
   "source": [
    "#Amount of NaN values\n",
    "data.funder.isna().sum()"
   ]
  },
  {
   "cell_type": "markdown",
   "metadata": {},
   "source": [
    "#### installer, I will replace the NaN values with the string Unknown"
   ]
  },
  {
   "cell_type": "code",
   "execution_count": 11,
   "metadata": {
    "ExecuteTime": {
     "end_time": "2021-09-22T19:31:19.037775Z",
     "start_time": "2021-09-22T19:31:19.030313Z"
    }
   },
   "outputs": [
    {
     "data": {
      "text/plain": [
       "3655"
      ]
     },
     "execution_count": 11,
     "metadata": {},
     "output_type": "execute_result"
    }
   ],
   "source": [
    "#Amount of NaN values\n",
    "data.installer.isna().sum()"
   ]
  },
  {
   "cell_type": "code",
   "execution_count": 12,
   "metadata": {
    "ExecuteTime": {
     "end_time": "2021-09-22T19:31:19.047967Z",
     "start_time": "2021-09-22T19:31:19.040305Z"
    }
   },
   "outputs": [],
   "source": [
    "#Replace NaN values with string 'Unknown'\n",
    "data.installer.fillna('Unknown', inplace=True)"
   ]
  },
  {
   "cell_type": "code",
   "execution_count": 13,
   "metadata": {
    "ExecuteTime": {
     "end_time": "2021-09-22T19:31:19.059297Z",
     "start_time": "2021-09-22T19:31:19.050326Z"
    }
   },
   "outputs": [
    {
     "data": {
      "text/plain": [
       "0"
      ]
     },
     "execution_count": 13,
     "metadata": {},
     "output_type": "execute_result"
    }
   ],
   "source": [
    "data.installer.isna().sum()"
   ]
  },
  {
   "cell_type": "markdown",
   "metadata": {},
   "source": [
    "#### subvillage, I will replace the NaN values with the string Unknown"
   ]
  },
  {
   "cell_type": "code",
   "execution_count": 14,
   "metadata": {
    "ExecuteTime": {
     "end_time": "2021-09-22T19:31:19.070398Z",
     "start_time": "2021-09-22T19:31:19.061314Z"
    }
   },
   "outputs": [
    {
     "data": {
      "text/plain": [
       "371"
      ]
     },
     "execution_count": 14,
     "metadata": {},
     "output_type": "execute_result"
    }
   ],
   "source": [
    "#Amount of NaN values\n",
    "data.subvillage.isna().sum()"
   ]
  },
  {
   "cell_type": "code",
   "execution_count": 15,
   "metadata": {
    "ExecuteTime": {
     "end_time": "2021-09-22T19:31:19.080284Z",
     "start_time": "2021-09-22T19:31:19.072624Z"
    }
   },
   "outputs": [],
   "source": [
    "#Replace NaN values with string 'Unknown'\n",
    "data.subvillage.fillna('Unknown', inplace=True)"
   ]
  },
  {
   "cell_type": "code",
   "execution_count": 16,
   "metadata": {
    "ExecuteTime": {
     "end_time": "2021-09-22T19:31:19.090621Z",
     "start_time": "2021-09-22T19:31:19.082407Z"
    }
   },
   "outputs": [
    {
     "data": {
      "text/plain": [
       "0"
      ]
     },
     "execution_count": 16,
     "metadata": {},
     "output_type": "execute_result"
    }
   ],
   "source": [
    "#Amount of NaN values\n",
    "data.subvillage.isna().sum()"
   ]
  },
  {
   "cell_type": "code",
   "execution_count": 17,
   "metadata": {
    "ExecuteTime": {
     "end_time": "2021-09-22T19:31:19.101050Z",
     "start_time": "2021-09-22T19:31:19.093204Z"
    }
   },
   "outputs": [
    {
     "data": {
      "text/plain": [
       "3334"
      ]
     },
     "execution_count": 17,
     "metadata": {},
     "output_type": "execute_result"
    }
   ],
   "source": [
    "#Amount of NaN values\n",
    "data.public_meeting.isna().sum()"
   ]
  },
  {
   "cell_type": "markdown",
   "metadata": {},
   "source": [
    "#### public_meeting, first I will change the boolean values to strings. Then I will replace the NaN values with the string Unknown"
   ]
  },
  {
   "cell_type": "code",
   "execution_count": 19,
   "metadata": {
    "ExecuteTime": {
     "end_time": "2021-09-22T19:31:19.118485Z",
     "start_time": "2021-09-22T19:31:19.110543Z"
    }
   },
   "outputs": [
    {
     "data": {
      "text/plain": [
       "3334"
      ]
     },
     "execution_count": 19,
     "metadata": {},
     "output_type": "execute_result"
    }
   ],
   "source": [
    "#Amount of NaN values\n",
    "data.public_meeting.isna().sum()"
   ]
  },
  {
   "cell_type": "code",
   "execution_count": 20,
   "metadata": {
    "ExecuteTime": {
     "end_time": "2021-09-22T19:31:19.135295Z",
     "start_time": "2021-09-22T19:31:19.120509Z"
    }
   },
   "outputs": [],
   "source": [
    "data.public_meeting = data.public_meeting.apply(lambda val:\n",
    "                                               'True' if val==True\n",
    "                                               else('False' if val==False\n",
    "                                                   else('Unknown')))"
   ]
  },
  {
   "cell_type": "code",
   "execution_count": 21,
   "metadata": {
    "ExecuteTime": {
     "end_time": "2021-09-22T19:31:19.146376Z",
     "start_time": "2021-09-22T19:31:19.137374Z"
    }
   },
   "outputs": [
    {
     "data": {
      "text/plain": [
       "0"
      ]
     },
     "execution_count": 21,
     "metadata": {},
     "output_type": "execute_result"
    }
   ],
   "source": [
    "#Amount of NaN values\n",
    "data.public_meeting.isna().sum()"
   ]
  },
  {
   "cell_type": "markdown",
   "metadata": {},
   "source": [
    "#### scheme_management,  I will replace the NaN values with the string Unknown"
   ]
  },
  {
   "cell_type": "code",
   "execution_count": 22,
   "metadata": {
    "ExecuteTime": {
     "end_time": "2021-09-22T19:31:19.161731Z",
     "start_time": "2021-09-22T19:31:19.152803Z"
    }
   },
   "outputs": [
    {
     "data": {
      "text/plain": [
       "3877"
      ]
     },
     "execution_count": 22,
     "metadata": {},
     "output_type": "execute_result"
    }
   ],
   "source": [
    "#Amount of NaN values\n",
    "data.scheme_management.isna().sum()"
   ]
  },
  {
   "cell_type": "code",
   "execution_count": 23,
   "metadata": {
    "ExecuteTime": {
     "end_time": "2021-09-22T19:31:19.176291Z",
     "start_time": "2021-09-22T19:31:19.170386Z"
    }
   },
   "outputs": [],
   "source": [
    "#Replace NaN values with string 'Unknown'\n",
    "data.scheme_management.fillna('Unknown', inplace=True)"
   ]
  },
  {
   "cell_type": "code",
   "execution_count": 24,
   "metadata": {
    "ExecuteTime": {
     "end_time": "2021-09-22T19:31:19.194276Z",
     "start_time": "2021-09-22T19:31:19.186756Z"
    }
   },
   "outputs": [
    {
     "data": {
      "text/plain": [
       "0"
      ]
     },
     "execution_count": 24,
     "metadata": {},
     "output_type": "execute_result"
    }
   ],
   "source": [
    "#Amount of NaN values\n",
    "data.scheme_management.isna().sum()"
   ]
  },
  {
   "cell_type": "markdown",
   "metadata": {},
   "source": [
    "#### scheme_name,  I will replace the NaN values with the string Unknown"
   ]
  },
  {
   "cell_type": "code",
   "execution_count": 25,
   "metadata": {
    "ExecuteTime": {
     "end_time": "2021-09-22T19:31:19.207271Z",
     "start_time": "2021-09-22T19:31:19.197507Z"
    }
   },
   "outputs": [
    {
     "data": {
      "text/plain": [
       "28166"
      ]
     },
     "execution_count": 25,
     "metadata": {},
     "output_type": "execute_result"
    }
   ],
   "source": [
    "#Amount of NaN values\n",
    "data.scheme_name.isna().sum()"
   ]
  },
  {
   "cell_type": "code",
   "execution_count": 26,
   "metadata": {
    "ExecuteTime": {
     "end_time": "2021-09-22T19:31:19.219046Z",
     "start_time": "2021-09-22T19:31:19.211157Z"
    }
   },
   "outputs": [],
   "source": [
    "#Replace NaN values with string 'Unknown'\n",
    "data.scheme_name.fillna('Unknown', inplace=True)"
   ]
  },
  {
   "cell_type": "code",
   "execution_count": 27,
   "metadata": {
    "ExecuteTime": {
     "end_time": "2021-09-22T19:31:19.228432Z",
     "start_time": "2021-09-22T19:31:19.221007Z"
    }
   },
   "outputs": [
    {
     "data": {
      "text/plain": [
       "0"
      ]
     },
     "execution_count": 27,
     "metadata": {},
     "output_type": "execute_result"
    }
   ],
   "source": [
    "#Amount of NaN values\n",
    "data.scheme_name.isna().sum()"
   ]
  },
  {
   "cell_type": "markdown",
   "metadata": {},
   "source": [
    "#### permit first I will change the boolean values to strings. Then I will replace the NaN values with the string Unknown"
   ]
  },
  {
   "cell_type": "code",
   "execution_count": 28,
   "metadata": {
    "ExecuteTime": {
     "end_time": "2021-09-22T19:31:19.239032Z",
     "start_time": "2021-09-22T19:31:19.232232Z"
    }
   },
   "outputs": [
    {
     "data": {
      "text/plain": [
       "3056"
      ]
     },
     "execution_count": 28,
     "metadata": {},
     "output_type": "execute_result"
    }
   ],
   "source": [
    "#Amount of NaN values\n",
    "data.permit.isna().sum()"
   ]
  },
  {
   "cell_type": "code",
   "execution_count": 29,
   "metadata": {
    "ExecuteTime": {
     "end_time": "2021-09-22T19:31:19.283007Z",
     "start_time": "2021-09-22T19:31:19.241271Z"
    }
   },
   "outputs": [],
   "source": [
    "data.permit = data.permit.apply(lambda val:\n",
    "                             'True' if val==True\n",
    "                            else('False' if val==False\n",
    "                         else('Unknown')))"
   ]
  },
  {
   "cell_type": "code",
   "execution_count": 30,
   "metadata": {
    "ExecuteTime": {
     "end_time": "2021-09-22T19:31:19.307758Z",
     "start_time": "2021-09-22T19:31:19.292288Z"
    }
   },
   "outputs": [
    {
     "data": {
      "text/plain": [
       "0"
      ]
     },
     "execution_count": 30,
     "metadata": {},
     "output_type": "execute_result"
    }
   ],
   "source": [
    "#Amount of NaN values\n",
    "data.permit.isna().sum()"
   ]
  },
  {
   "cell_type": "code",
   "execution_count": 32,
   "metadata": {
    "ExecuteTime": {
     "end_time": "2021-09-22T19:31:19.348418Z",
     "start_time": "2021-09-22T19:31:19.343912Z"
    }
   },
   "outputs": [],
   "source": [
    "#Adding the target variable to the data dataframe\n",
    "data['target'] = target_labels.status_group"
   ]
  },
  {
   "cell_type": "code",
   "execution_count": 33,
   "metadata": {
    "ExecuteTime": {
     "end_time": "2021-09-22T19:31:19.524090Z",
     "start_time": "2021-09-22T19:31:19.351217Z"
    }
   },
   "outputs": [
    {
     "name": "stdout",
     "output_type": "stream",
     "text": [
      "id\n",
      "Has 59400 unique values\n",
      "\n",
      "amount_tsh\n",
      "Has 98 unique values\n",
      "\n",
      "date_recorded\n",
      "Has 356 unique values\n",
      "\n",
      "funder\n",
      "Has 1897 unique values\n",
      "\n",
      "gps_height\n",
      "Has 2428 unique values\n",
      "\n",
      "installer\n",
      "Has 2145 unique values\n",
      "\n",
      "longitude\n",
      "Has 57516 unique values\n",
      "\n",
      "latitude\n",
      "Has 57517 unique values\n",
      "\n",
      "wpt_name\n",
      "Has 37400 unique values\n",
      "\n",
      "num_private\n",
      "Has 65 unique values\n",
      "\n",
      "basin\n",
      "Has 9 unique values\n",
      "\n",
      "subvillage\n",
      "Has 19288 unique values\n",
      "\n",
      "region\n",
      "Has 21 unique values\n",
      "\n",
      "region_code\n",
      "Has 27 unique values\n",
      "\n",
      "district_code\n",
      "Has 20 unique values\n",
      "\n",
      "lga\n",
      "Has 125 unique values\n",
      "\n",
      "ward\n",
      "Has 2092 unique values\n",
      "\n",
      "population\n",
      "Has 1049 unique values\n",
      "\n",
      "public_meeting\n",
      "Has 3 unique values\n",
      "\n",
      "recorded_by\n",
      "Has 1 unique values\n",
      "\n",
      "scheme_management\n",
      "Has 13 unique values\n",
      "\n",
      "scheme_name\n",
      "Has 2697 unique values\n",
      "\n",
      "permit\n",
      "Has 3 unique values\n",
      "\n",
      "construction_year\n",
      "Has 55 unique values\n",
      "\n",
      "extraction_type\n",
      "Has 18 unique values\n",
      "\n",
      "extraction_type_group\n",
      "Has 13 unique values\n",
      "\n",
      "extraction_type_class\n",
      "Has 7 unique values\n",
      "\n",
      "management\n",
      "Has 12 unique values\n",
      "\n",
      "management_group\n",
      "Has 5 unique values\n",
      "\n",
      "payment\n",
      "Has 7 unique values\n",
      "\n",
      "payment_type\n",
      "Has 7 unique values\n",
      "\n",
      "water_quality\n",
      "Has 8 unique values\n",
      "\n",
      "quality_group\n",
      "Has 6 unique values\n",
      "\n",
      "quantity\n",
      "Has 5 unique values\n",
      "\n",
      "quantity_group\n",
      "Has 5 unique values\n",
      "\n",
      "source\n",
      "Has 10 unique values\n",
      "\n",
      "source_type\n",
      "Has 7 unique values\n",
      "\n",
      "source_class\n",
      "Has 3 unique values\n",
      "\n",
      "waterpoint_type\n",
      "Has 7 unique values\n",
      "\n",
      "waterpoint_type_group\n",
      "Has 6 unique values\n",
      "\n",
      "target\n",
      "Has 3 unique values\n",
      "\n"
     ]
    }
   ],
   "source": [
    "#Amount of unique values per column in the data dataframe\n",
    "for col in data.columns:\n",
    "    print(col)\n",
    "    print(\"Has \"+str(determine_len_unique_vals(data[col])) +' unique values')\n",
    "    print()"
   ]
  },
  {
   "cell_type": "markdown",
   "metadata": {},
   "source": [
    "# Data Preparation"
   ]
  },
  {
   "cell_type": "markdown",
   "metadata": {},
   "source": [
    "## First I will change numeric features to the correct data type"
   ]
  },
  {
   "cell_type": "code",
   "execution_count": 34,
   "metadata": {
    "ExecuteTime": {
     "end_time": "2021-09-22T19:31:19.555073Z",
     "start_time": "2021-09-22T19:31:19.530164Z"
    }
   },
   "outputs": [],
   "source": [
    "data_trimmed = data.copy()\n",
    "# These are numeric columns that need to changes to integers\n",
    "cols_to_change = ['id',\n",
    " 'amount_tsh',\n",
    " 'gps_height',\n",
    " 'num_private',\n",
    " 'population',\n",
    "]\n",
    "for col in cols_to_change:\n",
    "    data_trimmed[col] = data_trimmed[col].astype(int)"
   ]
  },
  {
   "cell_type": "markdown",
   "metadata": {},
   "source": [
    "#### Now I will need to remove low value count columns from the data frame. This is so that when I train test split I am getting the same features in both X_train & X_test."
   ]
  },
  {
   "cell_type": "code",
   "execution_count": 35,
   "metadata": {
    "ExecuteTime": {
     "end_time": "2021-09-22T19:31:19.840048Z",
     "start_time": "2021-09-22T19:31:19.557849Z"
    }
   },
   "outputs": [],
   "source": [
    "trim_col_list = []\n",
    "cols_to_drop = []\n",
    "for col in data_trimmed.columns:\n",
    "    #Value Counts of column\n",
    "    v_counts = data_trimmed[col].value_counts()\n",
    "    #If there are values with less than 25 occurences\n",
    "    if True in list(v_counts < 25):\n",
    "        #If the values with less than 25 occurences occur less than 50 times\n",
    "        if ((v_counts < 25).sum() < 50):         \n",
    "            trim_col_list.append(col)\n",
    "        #These columns have too many value_counts<25. Some of these will be dropped\n",
    "        else:\n",
    "            cols_to_drop.append(col)    "
   ]
  },
  {
   "cell_type": "code",
   "execution_count": 36,
   "metadata": {
    "ExecuteTime": {
     "end_time": "2021-09-22T19:31:19.845613Z",
     "start_time": "2021-09-22T19:31:19.842868Z"
    }
   },
   "outputs": [],
   "source": [
    "#Updatedd list of columns to drop\n",
    "cols_to_drop = ['id', 'date_recorded', 'funder', 'scheme_name','installer','ward',\n",
    "               'subvillage','wpt_name','latitude','longitude', 'target']"
   ]
  },
  {
   "cell_type": "code",
   "execution_count": 37,
   "metadata": {
    "ExecuteTime": {
     "end_time": "2021-09-22T19:31:19.854670Z",
     "start_time": "2021-09-22T19:31:19.847666Z"
    }
   },
   "outputs": [
    {
     "data": {
      "text/plain": [
       "(59400, 41)"
      ]
     },
     "execution_count": 37,
     "metadata": {},
     "output_type": "execute_result"
    }
   ],
   "source": [
    "data_trimmed.shape"
   ]
  },
  {
   "cell_type": "code",
   "execution_count": 38,
   "metadata": {
    "ExecuteTime": {
     "end_time": "2021-09-22T19:31:20.104678Z",
     "start_time": "2021-09-22T19:31:19.857046Z"
    }
   },
   "outputs": [],
   "source": [
    "#Removing occurences where value_count < 25 from the entire data frame\n",
    "cut_off = 25\n",
    "for col in trim_col_list:\n",
    "    data_trimmed = remove_low_value_counts(data_trimmed, cut_off, col)"
   ]
  },
  {
   "cell_type": "code",
   "execution_count": 39,
   "metadata": {
    "ExecuteTime": {
     "end_time": "2021-09-22T19:31:20.111545Z",
     "start_time": "2021-09-22T19:31:20.106704Z"
    }
   },
   "outputs": [
    {
     "data": {
      "text/plain": [
       "(59253, 41)"
      ]
     },
     "execution_count": 39,
     "metadata": {},
     "output_type": "execute_result"
    }
   ],
   "source": [
    "data_trimmed.shape"
   ]
  },
  {
   "cell_type": "markdown",
   "metadata": {},
   "source": [
    "# Train Test Split"
   ]
  },
  {
   "cell_type": "code",
   "execution_count": 219,
   "metadata": {
    "ExecuteTime": {
     "end_time": "2021-09-25T15:38:24.930119Z",
     "start_time": "2021-09-25T15:38:24.837319Z"
    }
   },
   "outputs": [],
   "source": [
    "X = data_trimmed.drop(columns=cols_to_drop)\n",
    "y = data_trimmed['target']\n",
    "\n",
    "X_train, X_test, y_train, y_test = train_test_split(X, y, test_size=.25, random_state=42)"
   ]
  },
  {
   "cell_type": "markdown",
   "metadata": {},
   "source": [
    " #### From intuition, I have developed the rudimentary list below to start as our relevant features. After model selection and optimization I will revisit which features are the most important."
   ]
  },
  {
   "cell_type": "markdown",
   "metadata": {},
   "source": [
    "## Categorical & Continuous"
   ]
  },
  {
   "cell_type": "code",
   "execution_count": 228,
   "metadata": {
    "ExecuteTime": {
     "end_time": "2021-09-25T15:40:29.743434Z",
     "start_time": "2021-09-25T15:40:29.731884Z"
    }
   },
   "outputs": [],
   "source": [
    "relevant_categorical_columns = ['basin', \n",
    "                                'region',\n",
    "                                'lga',\n",
    "                                'public_meeting',\n",
    "                                'scheme_management', \n",
    "                                'permit', \n",
    "                                \n",
    "                                'extraction_type_class',\n",
    "                                'management', 'payment',\n",
    "                                'water_quality', 'source',\n",
    "                                'waterpoint_type'\n",
    "                               ]\n",
    "relevant_numeric_columns = ['amount_tsh', 'gps_height', 'population']\n",
    "\n",
    "X_train_cat = X_train[relevant_categorical_columns]\n",
    "X_test_cat = X_test[relevant_categorical_columns]\n",
    "\n",
    "X_train_cont = X_train[relevant_numeric_columns]\n",
    "X_test_cont = X_test[relevant_numeric_columns]"
   ]
  },
  {
   "cell_type": "markdown",
   "metadata": {},
   "source": [
    "# OHE"
   ]
  },
  {
   "cell_type": "code",
   "execution_count": 42,
   "metadata": {
    "ExecuteTime": {
     "end_time": "2021-09-22T19:31:20.504526Z",
     "start_time": "2021-09-22T19:31:20.175948Z"
    }
   },
   "outputs": [],
   "source": [
    "ohe = OneHotEncoder(drop='first', sparse=False )\n",
    "X_train_encoded = pd.DataFrame(ohe.fit_transform(X_train_cat), columns = ohe.get_feature_names(relevant_categorical_columns))\n",
    "X_test_encoded = pd.DataFrame(ohe.transform(X_test_cat), columns = ohe.get_feature_names(relevant_categorical_columns))"
   ]
  },
  {
   "cell_type": "markdown",
   "metadata": {},
   "source": [
    "# Scale"
   ]
  },
  {
   "cell_type": "code",
   "execution_count": 43,
   "metadata": {
    "ExecuteTime": {
     "end_time": "2021-09-22T19:31:20.518226Z",
     "start_time": "2021-09-22T19:31:20.506607Z"
    }
   },
   "outputs": [],
   "source": [
    "#Scale\n",
    "sc = StandardScaler()\n",
    "X_train_scaled = pd.DataFrame(sc.fit_transform(X_train_cont), columns=X_train_cont.columns)\n",
    "X_test_scaled = pd.DataFrame(sc.transform(X_test_cont), columns = X_test_cont.columns)"
   ]
  },
  {
   "cell_type": "markdown",
   "metadata": {
    "ExecuteTime": {
     "end_time": "2021-09-20T16:19:26.862599Z",
     "start_time": "2021-09-20T16:19:26.856659Z"
    }
   },
   "source": [
    "# Concat"
   ]
  },
  {
   "cell_type": "code",
   "execution_count": 44,
   "metadata": {
    "ExecuteTime": {
     "end_time": "2021-09-22T19:31:20.707084Z",
     "start_time": "2021-09-22T19:31:20.520156Z"
    }
   },
   "outputs": [],
   "source": [
    "X_train_processed = pd.concat([X_train_encoded, X_train_scaled], axis = 1)\n",
    "X_test_processed = pd.concat([X_test_encoded, X_test_scaled], axis = 1)"
   ]
  },
  {
   "cell_type": "markdown",
   "metadata": {},
   "source": [
    "# Modeling"
   ]
  },
  {
   "cell_type": "markdown",
   "metadata": {},
   "source": [
    "## Logistic Regression (BASELINE)"
   ]
  },
  {
   "cell_type": "code",
   "execution_count": 45,
   "metadata": {
    "ExecuteTime": {
     "end_time": "2021-09-22T19:31:33.285024Z",
     "start_time": "2021-09-22T19:31:20.710056Z"
    }
   },
   "outputs": [
    {
     "data": {
      "text/plain": [
       "LogisticRegression(max_iter=1000)"
      ]
     },
     "execution_count": 45,
     "metadata": {},
     "output_type": "execute_result"
    }
   ],
   "source": [
    "lr = LogisticRegression(max_iter = 1000)\n",
    "lr.fit(X_train_processed, y_train)"
   ]
  },
  {
   "cell_type": "code",
   "execution_count": 46,
   "metadata": {
    "ExecuteTime": {
     "end_time": "2021-09-22T19:32:11.608013Z",
     "start_time": "2021-09-22T19:31:33.287067Z"
    }
   },
   "outputs": [
    {
     "name": "stdout",
     "output_type": "stream",
     "text": [
      "Train score:      0.7093768984750575\n",
      "Test score: 0.7031887134364387\n"
     ]
    }
   ],
   "source": [
    "cross_validate_model(lr, X_train_processed, y_train)"
   ]
  },
  {
   "cell_type": "code",
   "execution_count": 47,
   "metadata": {
    "ExecuteTime": {
     "end_time": "2021-09-22T19:32:12.053294Z",
     "start_time": "2021-09-22T19:32:11.611704Z"
    }
   },
   "outputs": [
    {
     "data": {
      "text/plain": [
       "array([[20604,   189,  3339],\n",
       "       [ 2085,   401,   757],\n",
       "       [ 6433,   132, 10499]])"
      ]
     },
     "execution_count": 47,
     "metadata": {},
     "output_type": "execute_result"
    },
    {
     "data": {
      "image/png": "[encoded data removed]",
      "text/plain": [
       "<Figure size 432x288 with 2 Axes>"
      ]
     },
     "metadata": {
      "needs_background": "light"
     },
     "output_type": "display_data"
    }
   ],
   "source": [
    "display_confusion_matrix(lr, X_train_processed, y_train)"
   ]
  },
  {
   "cell_type": "markdown",
   "metadata": {},
   "source": [
    "## KNN Classifier"
   ]
  },
  {
   "cell_type": "code",
   "execution_count": 48,
   "metadata": {
    "ExecuteTime": {
     "end_time": "2021-09-22T19:32:12.107287Z",
     "start_time": "2021-09-22T19:32:12.055256Z"
    }
   },
   "outputs": [
    {
     "data": {
      "text/plain": [
       "KNeighborsClassifier()"
      ]
     },
     "execution_count": 48,
     "metadata": {},
     "output_type": "execute_result"
    }
   ],
   "source": [
    "knn = KNeighborsClassifier()\n",
    "knn.fit(X_train_processed, y_train)"
   ]
  },
  {
   "cell_type": "code",
   "execution_count": 49,
   "metadata": {
    "ExecuteTime": {
     "end_time": "2021-09-22T19:35:25.696655Z",
     "start_time": "2021-09-22T19:32:12.109436Z"
    }
   },
   "outputs": [
    {
     "name": "stdout",
     "output_type": "stream",
     "text": [
      "Train score:      0.784823019305109\n",
      "Test score: 0.7265915853991161\n"
     ]
    }
   ],
   "source": [
    "cross_validate_model(knn, X_train_processed, y_train)"
   ]
  },
  {
   "cell_type": "code",
   "execution_count": 50,
   "metadata": {
    "ExecuteTime": {
     "end_time": "2021-09-22T19:36:15.501370Z",
     "start_time": "2021-09-22T19:35:25.700771Z"
    }
   },
   "outputs": [
    {
     "data": {
      "text/plain": [
       "array([[21218,   441,  2473],\n",
       "       [ 1661,  1161,   421],\n",
       "       [ 4064,   338, 12662]])"
      ]
     },
     "execution_count": 50,
     "metadata": {},
     "output_type": "execute_result"
    },
    {
     "data": {
      "image/png": "[encoded data removed]",
      "text/plain": [
       "<Figure size 432x288 with 2 Axes>"
      ]
     },
     "metadata": {
      "needs_background": "light"
     },
     "output_type": "display_data"
    }
   ],
   "source": [
    "display_confusion_matrix(knn, X_train_processed, y_train)"
   ]
  },
  {
   "cell_type": "markdown",
   "metadata": {},
   "source": [
    "## Bayes Classifier"
   ]
  },
  {
   "cell_type": "code",
   "execution_count": 51,
   "metadata": {
    "ExecuteTime": {
     "end_time": "2021-09-22T19:36:15.801585Z",
     "start_time": "2021-09-22T19:36:15.503434Z"
    }
   },
   "outputs": [
    {
     "data": {
      "text/plain": [
       "GaussianNB()"
      ]
     },
     "execution_count": 51,
     "metadata": {},
     "output_type": "execute_result"
    }
   ],
   "source": [
    "nb = GaussianNB()\n",
    "nb.fit(X_train_processed, y_train)"
   ]
  },
  {
   "cell_type": "code",
   "execution_count": 52,
   "metadata": {
    "ExecuteTime": {
     "end_time": "2021-09-22T19:36:18.582129Z",
     "start_time": "2021-09-22T19:36:15.804277Z"
    }
   },
   "outputs": [
    {
     "name": "stdout",
     "output_type": "stream",
     "text": [
      "Train score:      0.280862521675925\n",
      "Test score: 0.27732378841574945\n"
     ]
    }
   ],
   "source": [
    "cross_validate_model(nb, X_train_processed, y_train)"
   ]
  },
  {
   "cell_type": "code",
   "execution_count": 53,
   "metadata": {
    "ExecuteTime": {
     "end_time": "2021-09-22T19:36:19.128707Z",
     "start_time": "2021-09-22T19:36:18.584556Z"
    }
   },
   "outputs": [
    {
     "data": {
      "text/plain": [
       "array([[ 6025, 16041,  2066],\n",
       "       [   62,  3114,    67],\n",
       "       [ 2002, 11350,  3712]])"
      ]
     },
     "execution_count": 53,
     "metadata": {},
     "output_type": "execute_result"
    },
    {
     "data": {
      "image/png": "[encoded data removed]",
      "text/plain": [
       "<Figure size 432x288 with 2 Axes>"
      ]
     },
     "metadata": {
      "needs_background": "light"
     },
     "output_type": "display_data"
    }
   ],
   "source": [
    "display_confusion_matrix(nb, X_train_processed, y_train)"
   ]
  },
  {
   "cell_type": "code",
   "execution_count": 54,
   "metadata": {
    "ExecuteTime": {
     "end_time": "2021-09-22T19:36:19.382574Z",
     "start_time": "2021-09-22T19:36:19.130447Z"
    }
   },
   "outputs": [
    {
     "data": {
      "text/plain": [
       "BernoulliNB()"
      ]
     },
     "execution_count": 54,
     "metadata": {},
     "output_type": "execute_result"
    }
   ],
   "source": [
    "bnb = BernoulliNB()\n",
    "bnb.fit(X_train_processed, y_train)"
   ]
  },
  {
   "cell_type": "code",
   "execution_count": 55,
   "metadata": {
    "ExecuteTime": {
     "end_time": "2021-09-22T19:37:53.994124Z",
     "start_time": "2021-09-22T19:37:51.805731Z"
    }
   },
   "outputs": [
    {
     "name": "stdout",
     "output_type": "stream",
     "text": [
      "Train score:      0.632760657152042\n",
      "Test score: 0.6300997107699968\n"
     ]
    }
   ],
   "source": [
    "cross_validate_model(bnb, X_train_processed, y_train)"
   ]
  },
  {
   "cell_type": "markdown",
   "metadata": {},
   "source": [
    "## SVM"
   ]
  },
  {
   "cell_type": "code",
   "execution_count": 828,
   "metadata": {
    "ExecuteTime": {
     "end_time": "2021-09-21T20:07:12.630279Z",
     "start_time": "2021-09-21T20:00:45.595627Z"
    }
   },
   "outputs": [
    {
     "data": {
      "text/plain": [
       "SVC()"
      ]
     },
     "execution_count": 828,
     "metadata": {},
     "output_type": "execute_result"
    }
   ],
   "source": [
    "svm = svm.SVC()\n",
    "svm.fit(X_train_processed, y_train)"
   ]
  },
  {
   "cell_type": "code",
   "execution_count": 836,
   "metadata": {
    "ExecuteTime": {
     "end_time": "2021-09-21T20:59:57.611269Z",
     "start_time": "2021-09-21T20:21:53.860273Z"
    }
   },
   "outputs": [
    {
     "name": "stdout",
     "output_type": "stream",
     "text": [
      "Train score:      0.7594736633412715\n",
      "Test score: 0.7368978717383385\n"
     ]
    }
   ],
   "source": [
    "cross_validate_model(svm, X_train_processed, y_train)"
   ]
  },
  {
   "cell_type": "code",
   "execution_count": 716,
   "metadata": {
    "ExecuteTime": {
     "end_time": "2021-09-21T19:22:41.703196Z",
     "start_time": "2021-09-21T19:17:56.735970Z"
    }
   },
   "outputs": [
    {
     "data": {
      "text/plain": [
       "array([[21784,   318,  2030],\n",
       "       [ 1907,   728,   608],\n",
       "       [ 5617,   157, 11290]])"
      ]
     },
     "execution_count": 716,
     "metadata": {},
     "output_type": "execute_result"
    },
    {
     "data": {
      "image/png": "[encoded data removed]",
      "text/plain": [
       "<Figure size 864x1296 with 2 Axes>"
      ]
     },
     "metadata": {
      "needs_background": "light"
     },
     "output_type": "display_data"
    }
   ],
   "source": [
    "display_confusion_matrix(svm, X_train_processed, y_train)"
   ]
  },
  {
   "cell_type": "markdown",
   "metadata": {},
   "source": [
    "## RandomForest"
   ]
  },
  {
   "cell_type": "code",
   "execution_count": 56,
   "metadata": {
    "ExecuteTime": {
     "end_time": "2021-09-22T19:38:20.748202Z",
     "start_time": "2021-09-22T19:38:07.828652Z"
    }
   },
   "outputs": [
    {
     "data": {
      "text/plain": [
       "RandomForestClassifier()"
      ]
     },
     "execution_count": 56,
     "metadata": {},
     "output_type": "execute_result"
    }
   ],
   "source": [
    "rf = RandomForestClassifier()\n",
    "rf.fit(X_train_processed, y_train)"
   ]
  },
  {
   "cell_type": "code",
   "execution_count": 57,
   "metadata": {
    "ExecuteTime": {
     "end_time": "2021-09-22T19:39:15.756299Z",
     "start_time": "2021-09-22T19:38:20.750299Z"
    }
   },
   "outputs": [
    {
     "name": "stdout",
     "output_type": "stream",
     "text": [
      "Train score:      0.9195526500942688\n",
      "Test score: 0.7439862223535283\n"
     ]
    }
   ],
   "source": [
    "cross_validate_model(rf, X_train_processed, y_train)"
   ]
  },
  {
   "cell_type": "markdown",
   "metadata": {},
   "source": [
    "## XGBOOST"
   ]
  },
  {
   "cell_type": "code",
   "execution_count": 58,
   "metadata": {
    "ExecuteTime": {
     "end_time": "2021-09-22T19:39:53.952660Z",
     "start_time": "2021-09-22T19:39:15.759343Z"
    }
   },
   "outputs": [
    {
     "data": {
      "text/plain": [
       "XGBClassifier(base_score=0.5, booster='gbtree', colsample_bylevel=1,\n",
       "              colsample_bynode=1, colsample_bytree=1, gamma=0, gpu_id=-1,\n",
       "              importance_type='gain', interaction_constraints='',\n",
       "              learning_rate=0.300000012, max_delta_step=0, max_depth=6,\n",
       "              min_child_weight=1, missing=nan, monotone_constraints='()',\n",
       "              n_estimators=100, n_jobs=0, num_parallel_tree=1,\n",
       "              objective='multi:softprob', random_state=0, reg_alpha=0,\n",
       "              reg_lambda=1, scale_pos_weight=None, subsample=1,\n",
       "              tree_method='exact', validate_parameters=1, verbosity=None)"
      ]
     },
     "execution_count": 58,
     "metadata": {},
     "output_type": "execute_result"
    }
   ],
   "source": [
    "xg = XGBClassifier()\n",
    "xg.fit(X_train_processed, y_train)"
   ]
  },
  {
   "cell_type": "code",
   "execution_count": 59,
   "metadata": {
    "ExecuteTime": {
     "end_time": "2021-09-22T19:42:40.385359Z",
     "start_time": "2021-09-22T19:39:53.954900Z"
    }
   },
   "outputs": [
    {
     "name": "stdout",
     "output_type": "stream",
     "text": [
      "Train score:      0.7791466989867956\n",
      "Test score: 0.743918725731018\n"
     ]
    }
   ],
   "source": [
    "cross_validate_model(xg, X_train_processed, y_train)"
   ]
  },
  {
   "cell_type": "code",
   "execution_count": 60,
   "metadata": {
    "ExecuteTime": {
     "end_time": "2021-09-22T19:43:43.164707Z",
     "start_time": "2021-09-22T19:43:42.353058Z"
    }
   },
   "outputs": [
    {
     "data": {
      "text/plain": [
       "array([[22103,   176,  1853],\n",
       "       [ 2041,   730,   472],\n",
       "       [ 5256,   135, 11673]])"
      ]
     },
     "execution_count": 60,
     "metadata": {},
     "output_type": "execute_result"
    },
    {
     "data": {
      "image/png": "[encoded data removed]",
      "text/plain": [
       "<Figure size 432x288 with 2 Axes>"
      ]
     },
     "metadata": {
      "needs_background": "light"
     },
     "output_type": "display_data"
    }
   ],
   "source": [
    "display_confusion_matrix(xg, X_train_processed, y_train)"
   ]
  },
  {
   "cell_type": "code",
   "execution_count": 834,
   "metadata": {
    "ExecuteTime": {
     "end_time": "2021-09-21T20:19:45.254176Z",
     "start_time": "2021-09-21T20:19:12.873114Z"
    }
   },
   "outputs": [
    {
     "data": {
      "text/plain": [
       "XGBRFClassifier(base_score=0.5, booster='gbtree', colsample_bylevel=1,\n",
       "                colsample_bytree=1, gamma=0, gpu_id=-1, importance_type='gain',\n",
       "                interaction_constraints='', max_delta_step=0, max_depth=6,\n",
       "                min_child_weight=1, missing=nan, monotone_constraints='()',\n",
       "                n_estimators=100, n_jobs=0, num_parallel_tree=100,\n",
       "                objective='multi:softprob', random_state=0, reg_alpha=0,\n",
       "                scale_pos_weight=None, tree_method='exact',\n",
       "                validate_parameters=1, verbosity=None)"
      ]
     },
     "execution_count": 834,
     "metadata": {},
     "output_type": "execute_result"
    }
   ],
   "source": [
    "xg_rbf = XGBRFClassifier()\n",
    "xg_rbf.fit(X_train_processed, y_train)"
   ]
  },
  {
   "cell_type": "code",
   "execution_count": 835,
   "metadata": {
    "ExecuteTime": {
     "end_time": "2021-09-21T20:21:53.856698Z",
     "start_time": "2021-09-21T20:19:45.256833Z"
    }
   },
   "outputs": [
    {
     "name": "stdout",
     "output_type": "stream",
     "text": [
      "Train score:      0.6770966940509977\n",
      "Test score: 0.6734400296674206\n"
     ]
    }
   ],
   "source": [
    "cross_validate_model(xg_rbf, X_train_processed, y_train)"
   ]
  },
  {
   "cell_type": "markdown",
   "metadata": {},
   "source": [
    "# Parameter Optimization\n",
    "\n",
    "### Because the XtremeGradientBoosted and the RandomForest algorithm perfomed the best I will optimize their parameters using GridSearchCV"
   ]
  },
  {
   "cell_type": "markdown",
   "metadata": {},
   "source": [
    "## GridSearch Round One (XGBOOST)"
   ]
  },
  {
   "cell_type": "markdown",
   "metadata": {},
   "source": [
    "### First I will investigate max depth"
   ]
  },
  {
   "cell_type": "code",
   "execution_count": 102,
   "metadata": {
    "ExecuteTime": {
     "end_time": "2021-09-24T15:35:29.839641Z",
     "start_time": "2021-09-24T15:35:29.836428Z"
    }
   },
   "outputs": [],
   "source": [
    "parameters = {\n",
    "    'max_depth': range (0, 100, 25)\n",
    "}\n",
    "xg = XGBClassifier()\n",
    "#xg_rbf.fit(X_train_processed, y_train)"
   ]
  },
  {
   "cell_type": "code",
   "execution_count": 103,
   "metadata": {
    "ExecuteTime": {
     "end_time": "2021-09-24T15:35:31.299532Z",
     "start_time": "2021-09-24T15:35:31.294963Z"
    }
   },
   "outputs": [],
   "source": [
    "grid_search = GridSearchCV(\n",
    "    estimator=xg,\n",
    "    param_grid=parameters,\n",
    "    scoring = 'accuracy',\n",
    "    n_jobs = 3,\n",
    "    cv = 3,\n",
    "    verbose=True\n",
    ")"
   ]
  },
  {
   "cell_type": "code",
   "execution_count": 104,
   "metadata": {
    "ExecuteTime": {
     "end_time": "2021-09-24T15:56:59.919898Z",
     "start_time": "2021-09-24T15:35:33.575552Z"
    }
   },
   "outputs": [
    {
     "name": "stdout",
     "output_type": "stream",
     "text": [
      "Fitting 3 folds for each of 4 candidates, totalling 12 fits\n"
     ]
    },
    {
     "data": {
      "text/plain": [
       "GridSearchCV(cv=3,\n",
       "             estimator=XGBRFClassifier(base_score=None, booster=None,\n",
       "                                       colsample_bylevel=None,\n",
       "                                       colsample_bytree=None, gamma=None,\n",
       "                                       gpu_id=None, importance_type='gain',\n",
       "                                       interaction_constraints=None,\n",
       "                                       max_delta_step=None, max_depth=None,\n",
       "                                       min_child_weight=None, missing=nan,\n",
       "                                       monotone_constraints=None,\n",
       "                                       n_estimators=100, n_jobs=None,\n",
       "                                       num_parallel_tree=None,\n",
       "                                       objective='binary:logistic',\n",
       "                                       random_state=None, reg_alpha=None,\n",
       "                                       scale_pos_weight=None, tree_method=None,\n",
       "                                       validate_parameters=None,\n",
       "                                       verbosity=None),\n",
       "             n_jobs=3, param_grid={'max_depth': range(0, 100, 25)},\n",
       "             scoring='accuracy', verbose=True)"
      ]
     },
     "execution_count": 104,
     "metadata": {},
     "output_type": "execute_result"
    }
   ],
   "source": [
    "grid_search.fit(X_train_processed, y_train)"
   ]
  },
  {
   "cell_type": "code",
   "execution_count": 105,
   "metadata": {
    "ExecuteTime": {
     "end_time": "2021-09-24T15:57:31.595503Z",
     "start_time": "2021-09-24T15:57:31.589437Z"
    }
   },
   "outputs": [
    {
     "data": {
      "text/plain": [
       "{'max_depth': 25}"
      ]
     },
     "execution_count": 105,
     "metadata": {},
     "output_type": "execute_result"
    }
   ],
   "source": [
    "grid_search.best_params_"
   ]
  },
  {
   "cell_type": "markdown",
   "metadata": {},
   "source": [
    "### n_estimators"
   ]
  },
  {
   "cell_type": "markdown",
   "metadata": {},
   "source": [
    "#### The n_estimators has been optimized at 1. Max Depth could be higher and learning rate could be lower."
   ]
  },
  {
   "cell_type": "code",
   "execution_count": 106,
   "metadata": {
    "ExecuteTime": {
     "end_time": "2021-09-24T15:58:48.788909Z",
     "start_time": "2021-09-24T15:58:48.785639Z"
    }
   },
   "outputs": [],
   "source": [
    "parameters = {\n",
    "    'n_estimators': range (0, 100, 25)\n",
    "}\n",
    "xg = XGBClassifier(max_depth=25)"
   ]
  },
  {
   "cell_type": "code",
   "execution_count": 107,
   "metadata": {
    "ExecuteTime": {
     "end_time": "2021-09-24T15:59:04.176361Z",
     "start_time": "2021-09-24T15:59:04.173131Z"
    }
   },
   "outputs": [],
   "source": [
    "grid_search = GridSearchCV(\n",
    "    estimator=xg,\n",
    "    param_grid=parameters,\n",
    "    scoring = 'accuracy',\n",
    "    n_jobs = 3,\n",
    "    cv = 3,\n",
    "    verbose=True\n",
    ")"
   ]
  },
  {
   "cell_type": "code",
   "execution_count": 108,
   "metadata": {
    "ExecuteTime": {
     "end_time": "2021-09-24T16:07:30.094216Z",
     "start_time": "2021-09-24T15:59:07.471146Z"
    }
   },
   "outputs": [
    {
     "name": "stdout",
     "output_type": "stream",
     "text": [
      "Fitting 3 folds for each of 4 candidates, totalling 12 fits\n"
     ]
    },
    {
     "name": "stderr",
     "output_type": "stream",
     "text": [
      "/Users/johnwelsh/opt/anaconda3/envs/learn-env/lib/python3.8/site-packages/sklearn/model_selection/_search.py:922: UserWarning: One or more of the test scores are non-finite: [       nan 0.7445262  0.74493125 0.74553883]\n",
      "  warnings.warn(\n"
     ]
    },
    {
     "data": {
      "text/plain": [
       "GridSearchCV(cv=3,\n",
       "             estimator=XGBRFClassifier(base_score=None, booster=None,\n",
       "                                       colsample_bylevel=None,\n",
       "                                       colsample_bytree=None, gamma=None,\n",
       "                                       gpu_id=None, importance_type='gain',\n",
       "                                       interaction_constraints=None,\n",
       "                                       max_delta_step=None, max_depth=25,\n",
       "                                       min_child_weight=None, missing=nan,\n",
       "                                       monotone_constraints=None,\n",
       "                                       n_estimators=100, n_jobs=None,\n",
       "                                       num_parallel_tree=None,\n",
       "                                       objective='binary:logistic',\n",
       "                                       random_state=None, reg_alpha=None,\n",
       "                                       scale_pos_weight=None, tree_method=None,\n",
       "                                       validate_parameters=None,\n",
       "                                       verbosity=None),\n",
       "             n_jobs=3, param_grid={'n_estimators': range(0, 100, 25)},\n",
       "             scoring='accuracy', verbose=True)"
      ]
     },
     "execution_count": 108,
     "metadata": {},
     "output_type": "execute_result"
    }
   ],
   "source": [
    "grid_search.fit(X_train_processed, y_train)"
   ]
  },
  {
   "cell_type": "code",
   "execution_count": 109,
   "metadata": {
    "ExecuteTime": {
     "end_time": "2021-09-24T16:07:30.101055Z",
     "start_time": "2021-09-24T16:07:30.096080Z"
    }
   },
   "outputs": [
    {
     "data": {
      "text/plain": [
       "{'n_estimators': 75}"
      ]
     },
     "execution_count": 109,
     "metadata": {},
     "output_type": "execute_result"
    }
   ],
   "source": [
    "grid_search.best_params_"
   ]
  },
  {
   "cell_type": "markdown",
   "metadata": {},
   "source": [
    "#### Learning Rate"
   ]
  },
  {
   "cell_type": "code",
   "execution_count": 110,
   "metadata": {
    "ExecuteTime": {
     "end_time": "2021-09-24T16:12:17.711558Z",
     "start_time": "2021-09-24T16:12:17.708882Z"
    }
   },
   "outputs": [],
   "source": [
    "parameters = {\n",
    "    'learning_rate': range (1, 10, 1)\n",
    "}\n",
    "xg = XGBClassifier(max_depth=25, n_estimators = 75)"
   ]
  },
  {
   "cell_type": "code",
   "execution_count": 111,
   "metadata": {
    "ExecuteTime": {
     "end_time": "2021-09-24T16:12:32.039806Z",
     "start_time": "2021-09-24T16:12:32.036658Z"
    }
   },
   "outputs": [],
   "source": [
    "grid_search = GridSearchCV(\n",
    "    estimator=xg,\n",
    "    param_grid=parameters,\n",
    "    scoring = 'accuracy',\n",
    "    n_jobs = 3,\n",
    "    cv = 3,\n",
    "    verbose=True\n",
    ")"
   ]
  },
  {
   "cell_type": "code",
   "execution_count": 112,
   "metadata": {
    "ExecuteTime": {
     "end_time": "2021-09-24T16:44:55.064759Z",
     "start_time": "2021-09-24T16:12:33.516317Z"
    }
   },
   "outputs": [
    {
     "name": "stdout",
     "output_type": "stream",
     "text": [
      "Fitting 3 folds for each of 9 candidates, totalling 27 fits\n"
     ]
    },
    {
     "data": {
      "text/plain": [
       "GridSearchCV(cv=3,\n",
       "             estimator=XGBRFClassifier(base_score=None, booster=None,\n",
       "                                       colsample_bylevel=None,\n",
       "                                       colsample_bytree=None, gamma=None,\n",
       "                                       gpu_id=None, importance_type='gain',\n",
       "                                       interaction_constraints=None,\n",
       "                                       max_delta_step=None, max_depth=25,\n",
       "                                       min_child_weight=None, missing=nan,\n",
       "                                       monotone_constraints=None,\n",
       "                                       n_estimators=75, n_jobs=None,\n",
       "                                       num_parallel_tree=None,\n",
       "                                       objective='binary:logistic',\n",
       "                                       random_state=None, reg_alpha=None,\n",
       "                                       scale_pos_weight=None, tree_method=None,\n",
       "                                       validate_parameters=None,\n",
       "                                       verbosity=None),\n",
       "             n_jobs=3, param_grid={'learning_rate': range(1, 10)},\n",
       "             scoring='accuracy', verbose=True)"
      ]
     },
     "execution_count": 112,
     "metadata": {},
     "output_type": "execute_result"
    }
   ],
   "source": [
    "grid_search.fit(X_train_processed, y_train)"
   ]
  },
  {
   "cell_type": "code",
   "execution_count": 114,
   "metadata": {
    "ExecuteTime": {
     "end_time": "2021-09-24T16:45:07.838968Z",
     "start_time": "2021-09-24T16:45:07.835287Z"
    }
   },
   "outputs": [
    {
     "data": {
      "text/plain": [
       "{'learning_rate': 1}"
      ]
     },
     "execution_count": 114,
     "metadata": {},
     "output_type": "execute_result"
    }
   ],
   "source": [
    "grid_search.best_params_"
   ]
  },
  {
   "cell_type": "code",
   "execution_count": 138,
   "metadata": {
    "ExecuteTime": {
     "end_time": "2021-09-24T18:46:12.255081Z",
     "start_time": "2021-09-24T18:46:12.252530Z"
    }
   },
   "outputs": [],
   "source": [
    "xg = XGBClassifier(max_depth=6, n_estimators = 100, learning_rate=.75)"
   ]
  },
  {
   "cell_type": "code",
   "execution_count": 139,
   "metadata": {
    "ExecuteTime": {
     "end_time": "2021-09-24T18:48:41.051437Z",
     "start_time": "2021-09-24T18:46:14.475158Z"
    }
   },
   "outputs": [
    {
     "name": "stdout",
     "output_type": "stream",
     "text": [
      "Train score:      0.8299860574156203\n",
      "Test score: 0.7469791558316403\n"
     ]
    }
   ],
   "source": [
    "cross_validate_model(xg, X_train_processed, y_train)"
   ]
  },
  {
   "cell_type": "markdown",
   "metadata": {},
   "source": [
    "## GridSearch Round Two (RandomForest)"
   ]
  },
  {
   "cell_type": "code",
   "execution_count": 67,
   "metadata": {
    "ExecuteTime": {
     "end_time": "2021-09-22T20:01:48.501846Z",
     "start_time": "2021-09-22T20:01:35.880409Z"
    }
   },
   "outputs": [
    {
     "data": {
      "text/plain": [
       "RandomForestClassifier()"
      ]
     },
     "execution_count": 67,
     "metadata": {},
     "output_type": "execute_result"
    }
   ],
   "source": [
    "rf = RandomForestClassifier()\n",
    "rf.fit(X_train_processed, y_train)"
   ]
  },
  {
   "cell_type": "markdown",
   "metadata": {},
   "source": [
    "#### First, I will use a random CV search to determine a starting point for the GridSearchCV"
   ]
  },
  {
   "cell_type": "code",
   "execution_count": 68,
   "metadata": {
    "ExecuteTime": {
     "end_time": "2021-09-22T20:01:51.038022Z",
     "start_time": "2021-09-22T20:01:51.030947Z"
    }
   },
   "outputs": [
    {
     "name": "stdout",
     "output_type": "stream",
     "text": [
      "{'n_estimators': [200, 400, 600, 800, 1000, 1200, 1400, 1600, 1800, 2000], 'max_features': ['auto', 'sqrt'], 'max_depth': [10, 20, 30, 40, 50, 60, 70, 80, 90, 100, 110, None], 'min_samples_split': [2, 5, 10], 'min_samples_leaf': [1, 2, 4], 'bootstrap': [True, False]}\n"
     ]
    }
   ],
   "source": [
    "# Number of trees in random forest\n",
    "n_estimators = [int(x) for x in np.linspace(start = 200, stop = 2000, num = 10)]\n",
    "# Number of features to consider at every split\n",
    "max_features = ['auto', 'sqrt']\n",
    "# Maximum number of levels in tree\n",
    "max_depth = [int(x) for x in np.linspace(10, 110, num = 11)]\n",
    "max_depth.append(None)\n",
    "# Minimum number of samples required to split a node\n",
    "min_samples_split = [2, 5, 10]\n",
    "# Minimum number of samples required at each leaf node\n",
    "min_samples_leaf = [1, 2, 4]\n",
    "# Method of selecting samples for training each tree\n",
    "bootstrap = [True, False]\n",
    "# Create the random grid\n",
    "random_grid = {'n_estimators': n_estimators,\n",
    "               'max_features': max_features,\n",
    "               'max_depth': max_depth,\n",
    "               'min_samples_split': min_samples_split,\n",
    "               'min_samples_leaf': min_samples_leaf,\n",
    "               'bootstrap': bootstrap}\n",
    "print(random_grid)\n"
   ]
  },
  {
   "cell_type": "code",
   "execution_count": 69,
   "metadata": {
    "ExecuteTime": {
     "end_time": "2021-09-22T21:57:32.808521Z",
     "start_time": "2021-09-22T20:02:48.779609Z"
    }
   },
   "outputs": [
    {
     "name": "stdout",
     "output_type": "stream",
     "text": [
      "Fitting 3 folds for each of 100 candidates, totalling 300 fits\n"
     ]
    },
    {
     "data": {
      "text/plain": [
       "RandomizedSearchCV(cv=3, estimator=RandomForestClassifier(), n_iter=100,\n",
       "                   n_jobs=-1,\n",
       "                   param_distributions={'bootstrap': [True, False],\n",
       "                                        'max_depth': [10, 20, 30, 40, 50, 60,\n",
       "                                                      70, 80, 90, 100, 110,\n",
       "                                                      None],\n",
       "                                        'max_features': ['auto', 'sqrt'],\n",
       "                                        'min_samples_leaf': [1, 2, 4],\n",
       "                                        'min_samples_split': [2, 5, 10],\n",
       "                                        'n_estimators': [200, 400, 600, 800,\n",
       "                                                         1000, 1200, 1400, 1600,\n",
       "                                                         1800, 2000]},\n",
       "                   random_state=42, verbose=2)"
      ]
     },
     "execution_count": 69,
     "metadata": {},
     "output_type": "execute_result"
    }
   ],
   "source": [
    "\n",
    "# Random search of parameters, using 3 fold cross validation, \n",
    "# search across 100 different combinations, and use all available cores\n",
    "rf_random = RandomizedSearchCV(estimator = rf, param_distributions = random_grid, n_iter = 100, cv = 3, verbose=2, random_state=42, n_jobs = -1)\n",
    "# Fit the random search model\n",
    "rf_random.fit(X_train_processed, y_train)"
   ]
  },
  {
   "cell_type": "code",
   "execution_count": 71,
   "metadata": {
    "ExecuteTime": {
     "end_time": "2021-09-22T21:59:55.849591Z",
     "start_time": "2021-09-22T21:59:55.823353Z"
    }
   },
   "outputs": [
    {
     "data": {
      "text/plain": [
       "{'n_estimators': 800,\n",
       " 'min_samples_split': 2,\n",
       " 'min_samples_leaf': 2,\n",
       " 'max_features': 'sqrt',\n",
       " 'max_depth': 50,\n",
       " 'bootstrap': False}"
      ]
     },
     "execution_count": 71,
     "metadata": {},
     "output_type": "execute_result"
    }
   ],
   "source": [
    "rf_random.best_params_"
   ]
  },
  {
   "cell_type": "code",
   "execution_count": 75,
   "metadata": {
    "ExecuteTime": {
     "end_time": "2021-09-22T22:04:49.857866Z",
     "start_time": "2021-09-22T22:03:09.801191Z"
    }
   },
   "outputs": [
    {
     "data": {
      "text/plain": [
       "RandomForestClassifier(bootstrap=False, max_depth=50, max_features='sqrt',\n",
       "                       min_samples_leaf=2, n_estimators=800)"
      ]
     },
     "execution_count": 75,
     "metadata": {},
     "output_type": "execute_result"
    }
   ],
   "source": [
    "#Train score:      0.9195526500942688\n",
    "#Test score: 0.7439862223535283\n",
    "rf = RandomForestClassifier(n_estimators= 800,\n",
    " min_samples_split= 2,\n",
    " min_samples_leaf= 2,\n",
    " max_features= 'sqrt',\n",
    " max_depth= 50,\n",
    " bootstrap= False)\n",
    "rf.fit(X_train_processed, y_train)"
   ]
  },
  {
   "cell_type": "code",
   "execution_count": 76,
   "metadata": {
    "ExecuteTime": {
     "end_time": "2021-09-22T22:11:47.788354Z",
     "start_time": "2021-09-22T22:04:50.873564Z"
    }
   },
   "outputs": [
    {
     "name": "stdout",
     "output_type": "stream",
     "text": [
      "Train score:      0.8316737643181493\n",
      "Test score: 0.75404493076741\n"
     ]
    }
   ],
   "source": [
    "cross_validate_model(rf, X_train_processed, y_train)"
   ]
  },
  {
   "cell_type": "markdown",
   "metadata": {},
   "source": [
    "#### Our test score improved! The high train score implies that the model is still overfit and we might be able to push the test score higher. I will investigate each of the following parameters n_estimators, max_features, max_depth, min_samples_leaf. I will do them one at a time for time's sake.\n",
    "### n_estimators"
   ]
  },
  {
   "cell_type": "code",
   "execution_count": 81,
   "metadata": {
    "ExecuteTime": {
     "end_time": "2021-09-22T22:41:06.315120Z",
     "start_time": "2021-09-22T22:41:06.303801Z"
    }
   },
   "outputs": [],
   "source": [
    "parameters = {\n",
    "    'n_estimators' : range(750, 850, 10)\n",
    "}"
   ]
  },
  {
   "cell_type": "code",
   "execution_count": 82,
   "metadata": {
    "ExecuteTime": {
     "end_time": "2021-09-22T22:41:31.206755Z",
     "start_time": "2021-09-22T22:41:08.593242Z"
    }
   },
   "outputs": [
    {
     "data": {
      "text/plain": [
       "RandomForestClassifier(bootstrap=False, max_depth=50, max_features='sqrt',\n",
       "                       min_samples_leaf=2)"
      ]
     },
     "execution_count": 82,
     "metadata": {},
     "output_type": "execute_result"
    }
   ],
   "source": [
    "rf = RandomForestClassifier(min_samples_split= 2,\n",
    " min_samples_leaf= 2,\n",
    " max_features= 'sqrt',\n",
    " max_depth= 50,\n",
    " bootstrap= False )\n",
    "rf.fit(X_train_processed, y_train)"
   ]
  },
  {
   "cell_type": "code",
   "execution_count": 83,
   "metadata": {
    "ExecuteTime": {
     "end_time": "2021-09-22T22:41:31.217821Z",
     "start_time": "2021-09-22T22:41:31.211278Z"
    }
   },
   "outputs": [],
   "source": [
    "grid_search = GridSearchCV(\n",
    "    estimator=rf,\n",
    "    param_grid=parameters,\n",
    "    scoring = 'accuracy',\n",
    "    n_jobs = 5,\n",
    "    cv = 3,\n",
    "    verbose=True\n",
    ")"
   ]
  },
  {
   "cell_type": "code",
   "execution_count": 84,
   "metadata": {
    "ExecuteTime": {
     "end_time": "2021-09-23T02:50:44.906833Z",
     "start_time": "2021-09-22T22:41:31.229038Z"
    }
   },
   "outputs": [
    {
     "name": "stdout",
     "output_type": "stream",
     "text": [
      "Fitting 3 folds for each of 10 candidates, totalling 30 fits\n"
     ]
    },
    {
     "data": {
      "text/plain": [
       "GridSearchCV(cv=3,\n",
       "             estimator=RandomForestClassifier(bootstrap=False, max_depth=50,\n",
       "                                              max_features='sqrt',\n",
       "                                              min_samples_leaf=2),\n",
       "             n_jobs=5, param_grid={'n_estimators': range(750, 850, 10)},\n",
       "             scoring='accuracy', verbose=True)"
      ]
     },
     "execution_count": 84,
     "metadata": {},
     "output_type": "execute_result"
    }
   ],
   "source": [
    "grid_search.fit(X_train_processed, y_train)"
   ]
  },
  {
   "cell_type": "code",
   "execution_count": 86,
   "metadata": {
    "ExecuteTime": {
     "end_time": "2021-09-24T03:18:38.763131Z",
     "start_time": "2021-09-24T03:18:38.754718Z"
    }
   },
   "outputs": [
    {
     "data": {
      "text/plain": [
       "{'n_estimators': 830}"
      ]
     },
     "execution_count": 86,
     "metadata": {},
     "output_type": "execute_result"
    }
   ],
   "source": [
    "grid_search.best_params_"
   ]
  },
  {
   "cell_type": "code",
   "execution_count": 161,
   "metadata": {
    "ExecuteTime": {
     "end_time": "2021-09-24T20:33:35.460441Z",
     "start_time": "2021-09-24T20:33:35.454115Z"
    }
   },
   "outputs": [],
   "source": [
    "rf = RandomForestClassifier(max_features='sqrt',\n",
    "                            min_samples_leaf = 2,\n",
    "                            min_samples_split=2,\n",
    "                            n_estimators = 820,\n",
    "                            max_depth = 60,\n",
    "                            random_state = 42\n",
    "                    \n",
    "                           )"
   ]
  },
  {
   "cell_type": "code",
   "execution_count": 141,
   "metadata": {
    "ExecuteTime": {
     "end_time": "2021-09-24T19:36:30.748458Z",
     "start_time": "2021-09-24T19:35:26.860906Z"
    }
   },
   "outputs": [
    {
     "data": {
      "text/plain": [
       "RandomForestClassifier(max_depth=40, max_features='sqrt', min_samples_leaf=2,\n",
       "                       n_estimators=830)"
      ]
     },
     "execution_count": 141,
     "metadata": {},
     "output_type": "execute_result"
    }
   ],
   "source": [
    "rf.fit(X_train_processed, y_train)"
   ]
  },
  {
   "cell_type": "code",
   "execution_count": 162,
   "metadata": {
    "ExecuteTime": {
     "end_time": "2021-09-24T20:38:59.794605Z",
     "start_time": "2021-09-24T20:33:41.595655Z"
    }
   },
   "outputs": [
    {
     "name": "stdout",
     "output_type": "stream",
     "text": [
      "Train score:      0.8090022368949505\n",
      "Test score: 0.7522222358389772\n"
     ]
    }
   ],
   "source": [
    "cross_validate_model(rf, X_train_processed, y_train)\n",
    "#was 0.7522672200830975\n",
    "#RandomForestClassifier(max_depth=60, max_features='sqrt', min_samples_leaf=2,\n",
    "#                       n_estimators=820)"
   ]
  },
  {
   "cell_type": "markdown",
   "metadata": {},
   "source": [
    "# Final Feature Selection\n",
    "### Now that I have a validated model I will revisit which features are relevant or not. I will first remove features displaying collinearity and then I may remove features deemed unimportant by the model. For testing convenience, I will first develop the pipeline."
   ]
  },
  {
   "cell_type": "markdown",
   "metadata": {},
   "source": [
    "# Pipeline"
   ]
  },
  {
   "cell_type": "code",
   "execution_count": 165,
   "metadata": {
    "ExecuteTime": {
     "end_time": "2021-09-24T20:56:11.173890Z",
     "start_time": "2021-09-24T20:56:11.078200Z"
    }
   },
   "outputs": [
    {
     "name": "stdout",
     "output_type": "stream",
     "text": [
      "<class 'pandas.core.frame.DataFrame'>\n",
      "Int64Index: 44439 entries, 11045 to 56561\n",
      "Data columns (total 30 columns):\n",
      " #   Column                 Non-Null Count  Dtype \n",
      "---  ------                 --------------  ----- \n",
      " 0   amount_tsh             44439 non-null  int64 \n",
      " 1   gps_height             44439 non-null  int64 \n",
      " 2   num_private            44439 non-null  int64 \n",
      " 3   basin                  44439 non-null  object\n",
      " 4   region                 44439 non-null  object\n",
      " 5   region_code            44439 non-null  int64 \n",
      " 6   district_code          44439 non-null  int64 \n",
      " 7   lga                    44439 non-null  object\n",
      " 8   population             44439 non-null  int64 \n",
      " 9   public_meeting         44439 non-null  object\n",
      " 10  recorded_by            44439 non-null  object\n",
      " 11  scheme_management      44439 non-null  object\n",
      " 12  permit                 44439 non-null  object\n",
      " 13  construction_year      44439 non-null  int64 \n",
      " 14  extraction_type        44439 non-null  object\n",
      " 15  extraction_type_group  44439 non-null  object\n",
      " 16  extraction_type_class  44439 non-null  object\n",
      " 17  management             44439 non-null  object\n",
      " 18  management_group       44439 non-null  object\n",
      " 19  payment                44439 non-null  object\n",
      " 20  payment_type           44439 non-null  object\n",
      " 21  water_quality          44439 non-null  object\n",
      " 22  quality_group          44439 non-null  object\n",
      " 23  quantity               44439 non-null  object\n",
      " 24  quantity_group         44439 non-null  object\n",
      " 25  source                 44439 non-null  object\n",
      " 26  source_type            44439 non-null  object\n",
      " 27  source_class           44439 non-null  object\n",
      " 28  waterpoint_type        44439 non-null  object\n",
      " 29  waterpoint_type_group  44439 non-null  object\n",
      "dtypes: int64(7), object(23)\n",
      "memory usage: 10.5+ MB\n"
     ]
    }
   ],
   "source": [
    "X_train.info()"
   ]
  },
  {
   "cell_type": "code",
   "execution_count": 166,
   "metadata": {
    "ExecuteTime": {
     "end_time": "2021-09-24T21:01:47.054692Z",
     "start_time": "2021-09-24T21:01:47.051558Z"
    }
   },
   "outputs": [],
   "source": [
    "\n",
    "rf = RandomForestClassifier(max_features='sqrt',\n",
    "                            min_samples_leaf = 2,\n",
    "                            min_samples_split=2,\n",
    "                            n_estimators = 820,\n",
    "                            max_depth = 60,\n",
    "                            random_state = 42                   \n",
    "                           )\n",
    "xg = XGBClassifier(max_depth=6, n_estimators = 100, learning_rate=.75)\n"
   ]
  },
  {
   "cell_type": "markdown",
   "metadata": {},
   "source": [
    "### I will use the og column names as the baseline and try different variations of combinations."
   ]
  },
  {
   "cell_type": "code",
   "execution_count": 288,
   "metadata": {
    "ExecuteTime": {
     "end_time": "2021-09-25T16:19:25.485998Z",
     "start_time": "2021-09-25T16:19:25.481453Z"
    }
   },
   "outputs": [],
   "source": [
    "\n",
    "og_categorical_columns = ['basin', \n",
    "                                'region',\n",
    "                                'lga',\n",
    "                                'public_meeting',\n",
    "                                'scheme_management', \n",
    "                                'permit', \n",
    "                                'extraction_type_class',\n",
    "                                'management', 'payment',\n",
    "                                'water_quality', 'source',\n",
    "                                'waterpoint_type'\n",
    "                               ]\n",
    "og_numeric_columns = ['amount_tsh', 'gps_height', 'population']\n",
    "\n",
    "all_categorical_columns = ['basin', 'region', 'lga', 'public_meeting', 'scheme_management',\n",
    "                                'permit', \n",
    "                                'extraction_type_class', 'management', 'payment',\n",
    "                               'water_quality', 'source', 'waterpoint_type'\n",
    "                               ]\n",
    "all_numeric_columns = ['amount_tsh', 'gps_height', 'population', 'district_code',\n",
    "                               'region_code', 'num_private','construction_year']\n"
   ]
  },
  {
   "cell_type": "code",
   "execution_count": 289,
   "metadata": {
    "ExecuteTime": {
     "end_time": "2021-09-25T16:19:27.074693Z",
     "start_time": "2021-09-25T16:19:27.071304Z"
    }
   },
   "outputs": [],
   "source": [
    "\n",
    "og_col_transformer = ColumnTransformer(\n",
    "\n",
    "    transformers=[\n",
    "        (  \"ohe\",\n",
    "            OneHotEncoder(categories=\"auto\", drop='first'),\n",
    "           og_categorical_columns ),\n",
    "        (\n",
    "            'Scale',\n",
    "            StandardScaler(),\n",
    "            og_numeric_columns\n",
    "        ) ],\n",
    "    remainder=\"passthrough\"\n",
    ")"
   ]
  },
  {
   "cell_type": "code",
   "execution_count": 290,
   "metadata": {
    "ExecuteTime": {
     "end_time": "2021-09-25T16:19:28.591214Z",
     "start_time": "2021-09-25T16:19:28.588193Z"
    }
   },
   "outputs": [],
   "source": [
    "test_col_transformer = ColumnTransformer(\n",
    "\n",
    "    transformers=[\n",
    "        (  \"ohe\",\n",
    "            OneHotEncoder(categories=\"auto\", drop='first'),\n",
    "           all_categorical_columns ),\n",
    "        (\n",
    "            'Scale',\n",
    "            StandardScaler(),\n",
    "            all_numeric_columns\n",
    "        ) ],\n",
    "    remainder=\"passthrough\"\n",
    ")"
   ]
  },
  {
   "cell_type": "code",
   "execution_count": 482,
   "metadata": {
    "ExecuteTime": {
     "end_time": "2021-09-27T18:24:18.014925Z",
     "start_time": "2021-09-27T18:24:18.003845Z"
    }
   },
   "outputs": [],
   "source": [
    "# Create a pipeline containing the single column transformer\n",
    "pipe_RF_og = Pipeline(\n",
    "\n",
    "    steps=[(\"col_transformer\", og_col_transformer),\n",
    "        ('RF', rf)]\n",
    ")\n",
    "\n",
    "pipe_RF_test = Pipeline(\n",
    "\n",
    "    steps=[(\"col_transformer\", test_col_transformer),\n",
    "        ('RF', rf)]\n",
    ")\n",
    "\n",
    "\n",
    "pipe_XG_og = Pipeline(\n",
    "\n",
    "    steps=[(\"col_transformer\", og_col_transformer),\n",
    "        ('XG', xg)]\n",
    ")\n",
    "\n",
    "pipe_XG_test = Pipeline(\n",
    "\n",
    "    steps=[(\"col_transformer\", test_col_transformer),\n",
    "        ('XG', xg)]\n",
    ")\n"
   ]
  },
  {
   "cell_type": "code",
   "execution_count": 294,
   "metadata": {
    "ExecuteTime": {
     "end_time": "2021-09-25T16:33:06.779675Z",
     "start_time": "2021-09-25T16:24:28.721129Z"
    }
   },
   "outputs": [
    {
     "data": {
      "text/plain": [
       "Pipeline(steps=[('col_transformer',\n",
       "                 ColumnTransformer(remainder='passthrough',\n",
       "                                   transformers=[('ohe',\n",
       "                                                  OneHotEncoder(drop='first'),\n",
       "                                                  ['basin', 'region', 'lga',\n",
       "                                                   'public_meeting',\n",
       "                                                   'scheme_management',\n",
       "                                                   'permit',\n",
       "                                                   'extraction_type_class',\n",
       "                                                   'management', 'payment',\n",
       "                                                   'water_quality', 'source',\n",
       "                                                   'waterpoint_type']),\n",
       "                                                 ('Scale', StandardScaler(),\n",
       "                                                  ['amount_tsh', 'gps_height',\n",
       "                                                   'population',\n",
       "                                                   'district_code',\n",
       "                                                   'region_code', 'num_private',\n",
       "                                                   'construction_year'])])),\n",
       "                ('RF',\n",
       "                 RandomForestClassifier(max_depth=60, max_features='sqrt',\n",
       "                                        min_samples_leaf=2, n_estimators=820,\n",
       "                                        random_state=42))])"
      ]
     },
     "execution_count": 294,
     "metadata": {},
     "output_type": "execute_result"
    }
   ],
   "source": [
    "og_ = og_numeric_columns + og_categorical_columns\n",
    "test_ = all_numeric_columns + all_categorical_columns\n",
    "pipe_XG_og.fit(X_train[og_], y_train)\n",
    "pipe_RF_og.fit(X_train[og_], y_train)\n",
    "\n",
    "pipe_XG_test.fit(X_train[test_], y_train)\n",
    "pipe_RF_test.fit(X_train[test_], y_train)"
   ]
  },
  {
   "cell_type": "code",
   "execution_count": 309,
   "metadata": {
    "ExecuteTime": {
     "end_time": "2021-09-25T16:56:08.480968Z",
     "start_time": "2021-09-25T16:40:57.367148Z"
    }
   },
   "outputs": [
    {
     "name": "stdout",
     "output_type": "stream",
     "text": [
      "Train score:      0.8059081096043841\n",
      "Test score: 0.7458314347244335\n"
     ]
    }
   ],
   "source": [
    "print('Original data + RF model')\n",
    "cross_validate_model(pipe_RF_og, X_train[og_], y_train)"
   ]
  },
  {
   "cell_type": "code",
   "execution_count": 310,
   "metadata": {
    "ExecuteTime": {
     "end_time": "2021-09-25T16:56:29.883073Z",
     "start_time": "2021-09-25T16:56:08.575829Z"
    }
   },
   "outputs": [
    {
     "name": "stdout",
     "output_type": "stream",
     "text": [
      "Train score:      0.8169738441770535\n",
      "Test score: 0.7390805748179183\n"
     ]
    }
   ],
   "source": [
    "print('Orginial data + XG Model')\n",
    "cross_validate_model(pipe_XG_og, X_train[og_], y_train)"
   ]
  },
  {
   "cell_type": "code",
   "execution_count": 311,
   "metadata": {
    "ExecuteTime": {
     "end_time": "2021-09-25T16:59:57.388548Z",
     "start_time": "2021-09-25T16:59:36.159185Z"
    }
   },
   "outputs": [
    {
     "name": "stdout",
     "output_type": "stream",
     "text": [
      "Test data + XG Model\n",
      "Train score:      0.8287484135568629\n",
      "Test score: 0.7499944750860817\n"
     ]
    }
   ],
   "source": [
    "print('Test data + XG Model')\n",
    "cross_validate_model(pipe_XG_test, X_train[test_],y_train)"
   ]
  },
  {
   "cell_type": "code",
   "execution_count": 314,
   "metadata": {
    "ExecuteTime": {
     "end_time": "2021-09-27T15:07:30.499783Z",
     "start_time": "2021-09-27T14:49:43.492306Z"
    }
   },
   "outputs": [
    {
     "name": "stdout",
     "output_type": "stream",
     "text": [
      "Test data + RF Model\n",
      "Train score:      0.8181327333248077\n",
      "Test score: 0.7552601257087563\n"
     ]
    }
   ],
   "source": [
    "print('Test data + RF Model')\n",
    "cross_validate_model(pipe_RF_test, X_train[test_], y_train)"
   ]
  },
  {
   "cell_type": "markdown",
   "metadata": {},
   "source": [
    "# Final Model Evaluation"
   ]
  },
  {
   "cell_type": "code",
   "execution_count": 325,
   "metadata": {
    "ExecuteTime": {
     "end_time": "2021-09-27T15:19:55.433487Z",
     "start_time": "2021-09-27T15:19:52.585522Z"
    }
   },
   "outputs": [
    {
     "name": "stdout",
     "output_type": "stream",
     "text": [
      "Validation Accuracy Score:\n",
      "0.7594167679222357\n",
      "                         precision    recall  f1-score   support\n",
      "\n",
      "             functional      0.748     0.892     0.813      8077\n",
      "functional needs repair      0.599     0.195     0.294      1066\n",
      "         non functional      0.794     0.677     0.731      5671\n",
      "\n",
      "               accuracy                          0.759     14814\n",
      "              macro avg      0.714     0.588     0.613     14814\n",
      "           weighted avg      0.755     0.759     0.744     14814\n",
      "\n"
     ]
    }
   ],
   "source": [
    "y_pred = pipe_RF_test.predict(X_test[test_])\n",
    "print(\"Validation Accuracy Score:\")\n",
    "print(accuracy_score(y_test, y_pred))\n",
    "# Print the precision and recall, among other metrics\n",
    "print(classification_report(y_test, y_pred, digits=3))"
   ]
  },
  {
   "cell_type": "code",
   "execution_count": 320,
   "metadata": {
    "ExecuteTime": {
     "end_time": "2021-09-27T15:13:55.896741Z",
     "start_time": "2021-09-27T15:13:52.238649Z"
    }
   },
   "outputs": [
    {
     "data": {
      "text/plain": [
       "array([[7203,   85,  789],\n",
       "       [ 651,  208,  207],\n",
       "       [1778,   54, 3839]])"
      ]
     },
     "execution_count": 320,
     "metadata": {},
     "output_type": "execute_result"
    },
    {
     "data": {
      "image/png": "[encoded data removed]",
      "text/plain": [
       "<Figure size 432x288 with 2 Axes>"
      ]
     },
     "metadata": {
      "needs_background": "light"
     },
     "output_type": "display_data"
    }
   ],
   "source": [
    "display_confusion_matrix(pipe_RF_test, X_test[test_], y_test)"
   ]
  },
  {
   "cell_type": "markdown",
   "metadata": {},
   "source": [
    "# Results"
   ]
  },
  {
   "cell_type": "code",
   "execution_count": 341,
   "metadata": {
    "ExecuteTime": {
     "end_time": "2021-09-27T15:43:02.564953Z",
     "start_time": "2021-09-27T15:41:52.566223Z"
    }
   },
   "outputs": [
    {
     "data": {
      "text/plain": [
       "RandomForestClassifier(max_depth=60, max_features='sqrt', min_samples_leaf=2,\n",
       "                       n_estimators=820, random_state=42)"
      ]
     },
     "execution_count": 341,
     "metadata": {},
     "output_type": "execute_result"
    }
   ],
   "source": [
    "rf = RandomForestClassifier(max_features='sqrt',\n",
    "                            min_samples_leaf = 2,\n",
    "                            min_samples_split=2,\n",
    "                            n_estimators = 820,\n",
    "                            max_depth = 60,\n",
    "                            random_state = 42                   \n",
    "                           )\n",
    "rf.fit(X_train_processed, y_train)"
   ]
  },
  {
   "cell_type": "code",
   "execution_count": 526,
   "metadata": {
    "ExecuteTime": {
     "end_time": "2021-09-27T18:49:56.196008Z",
     "start_time": "2021-09-27T18:49:55.076190Z"
    }
   },
   "outputs": [
    {
     "data": {
      "image/png": "[encoded data removed]",
      "text/plain": [
       "<Figure size 2160x2160 with 1 Axes>"
      ]
     },
     "metadata": {
      "needs_background": "light"
     },
     "output_type": "display_data"
    }
   ],
   "source": [
    "#Gini Importance or Mean Decrease in Impurity (MDI) calculates each feature \n",
    "# importance as the sum over the number of splits (across all tress) that include \n",
    "# the feature, proportionally to the number of samples it splits.\n",
    "\n",
    "\n",
    "\n",
    "\n",
    "\n",
    "importances = rf.feature_importances_\n",
    "std = np.std([\n",
    "    tree.feature_importances_ for tree in rf.estimators_], axis=0)\n",
    "forest_importances = pd.Series(importances, index=X_train_processed.columns)\n",
    "\n",
    "fig, ax = plt.subplots(figsize=(30,30))\n",
    "most_important = forest_importances.loc[forest_importances > .01]\n",
    "most_important.plot.bar(ax=ax)\n",
    "ax.set_title(\"Feature imortances using MDI\")\n",
    "ax.set_ylabel(\"Mean decrease in impurity\")\n",
    "fig.tight_layout()"
   ]
  },
  {
   "cell_type": "code",
   "execution_count": 455,
   "metadata": {
    "ExecuteTime": {
     "end_time": "2021-09-27T17:29:55.189585Z",
     "start_time": "2021-09-27T17:29:55.142160Z"
    }
   },
   "outputs": [],
   "source": [
    "gps_greater_than_ten = data_trimmed.loc[data_trimmed.gps_height > 10]"
   ]
  },
  {
   "cell_type": "code",
   "execution_count": 456,
   "metadata": {
    "ExecuteTime": {
     "end_time": "2021-09-27T17:29:56.141062Z",
     "start_time": "2021-09-27T17:29:56.134483Z"
    }
   },
   "outputs": [],
   "source": [
    "gps_less_than_neg_ten = data_trimmed.loc[data_trimmed.gps_height < -10]"
   ]
  },
  {
   "cell_type": "code",
   "execution_count": 469,
   "metadata": {
    "ExecuteTime": {
     "end_time": "2021-09-27T17:38:01.791979Z",
     "start_time": "2021-09-27T17:38:01.501850Z"
    }
   },
   "outputs": [
    {
     "data": {
      "text/plain": [
       "Text(0.5, 1.0, 'GPS Altitude less than negative 10')"
      ]
     },
     "execution_count": 469,
     "metadata": {},
     "output_type": "execute_result"
    },
    {
     "data": {
      "image/png": "[encoded data removed]",
      "text/plain": [
       "<Figure size 864x1296 with 1 Axes>"
      ]
     },
     "metadata": {
      "needs_background": "light"
     },
     "output_type": "display_data"
    },
    {
     "data": {
      "image/png": "[encoded data removed]",
      "text/plain": [
       "<Figure size 864x1296 with 1 Axes>"
      ]
     },
     "metadata": {
      "needs_background": "light"
     },
     "output_type": "display_data"
    }
   ],
   "source": [
    "\n",
    "fig, ax = plt.subplots()\n",
    "\n",
    "ax = gps_greater_than_ten.target.value_counts().sort_index(ascending=False).plot(kind='bar')\n",
    "ax.set_ylabel('Number of Pumps')\n",
    "ax.set_title('GPS Altitude greater than 10')\n",
    "\n",
    "fig, ax = plt.subplots()\n",
    "ax = gps_less_than_neg_ten.target.value_counts().sort_index(ascending=False).plot(kind='bar')\n",
    "ax.set_ylabel('Number of Pumps')\n",
    "ax.set_title('GPS Altitude less than negative 10')\n"
   ]
  },
  {
   "cell_type": "markdown",
   "metadata": {},
   "source": [
    "## We can conclude that lower altitudes have a lower ration of functional : not/functional"
   ]
  },
  {
   "cell_type": "code",
   "execution_count": 393,
   "metadata": {
    "ExecuteTime": {
     "end_time": "2021-09-27T16:13:25.242140Z",
     "start_time": "2021-09-27T16:13:25.231347Z"
    }
   },
   "outputs": [
    {
     "data": {
      "text/plain": [
       "communal standpipe             28483\n",
       "hand pump                      17452\n",
       "other                           6339\n",
       "communal standpipe multiple     6080\n",
       "improved spring                  784\n",
       "cattle trough                    115\n",
       "Name: waterpoint_type, dtype: int64"
      ]
     },
     "execution_count": 393,
     "metadata": {},
     "output_type": "execute_result"
    }
   ],
   "source": [
    "data_trimmed.waterpoint_type.value_counts()"
   ]
  },
  {
   "cell_type": "code",
   "execution_count": 428,
   "metadata": {
    "ExecuteTime": {
     "end_time": "2021-09-27T16:39:25.967268Z",
     "start_time": "2021-09-27T16:39:25.722132Z"
    }
   },
   "outputs": [
    {
     "data": {
      "text/plain": [
       "Text(0.5, 1.0, 'Target dist when waterpoint_type is known')"
      ]
     },
     "execution_count": 428,
     "metadata": {},
     "output_type": "execute_result"
    },
    {
     "data": {
      "image/png": "[encoded data removed]",
      "text/plain": [
       "<Figure size 864x1296 with 2 Axes>"
      ]
     },
     "metadata": {},
     "output_type": "display_data"
    }
   ],
   "source": [
    "labels_one = data_trimmed.loc[data_trimmed.waterpoint_type == 'other'].target.value_counts().keys()\n",
    "sizes_one = data_trimmed.loc[data_trimmed.waterpoint_type == 'other'].target.value_counts().values\n",
    "\n",
    "labels_two = data_trimmed.loc[data_trimmed.waterpoint_type != 'other'].target.value_counts().keys()\n",
    "sizes_two = data_trimmed.loc[data_trimmed.waterpoint_type != 'other'].target.value_counts().values\n",
    "colours = {'functional': 'C0',\n",
    "           'non functional': 'C1',\n",
    "           'functional needs repair': 'C2',}\n",
    "\n",
    "fig, ax = plt.subplots(1, 2)\n",
    "\n",
    "ax[0].pie(sizes_one,\n",
    "          labels=labels_one,\n",
    "          colors=[colours[key] for key in labels_one])\n",
    "ax[0].set_title(\"Target dist when waterpoint_type is unknown\")\n",
    "\n",
    "ax[1].pie(sizes_two,\n",
    "          labels=labels_two,\n",
    "          colors=[colours[key] for key in labels_two])\n",
    "ax[1].set_title(\"Target dist when waterpoint_type is known\")\n",
    "\n"
   ]
  },
  {
   "cell_type": "markdown",
   "metadata": {},
   "source": [
    "## We can conclude that areas with an unknown water point type are output more non functional water pumps"
   ]
  },
  {
   "cell_type": "code",
   "execution_count": 409,
   "metadata": {
    "ExecuteTime": {
     "end_time": "2021-09-27T16:24:32.192278Z",
     "start_time": "2021-09-27T16:24:32.181842Z"
    }
   },
   "outputs": [
    {
     "data": {
      "text/plain": [
       "gravity              26735\n",
       "nira/tanira           8132\n",
       "other                 6386\n",
       "submersible           4744\n",
       "swn 80                3664\n",
       "mono                  2865\n",
       "india mark ii         2397\n",
       "afridev               1768\n",
       "ksb                   1414\n",
       "other - rope pump      451\n",
       "other - swn 81         229\n",
       "windmill               115\n",
       "india mark iii          98\n",
       "cemo                    90\n",
       "other - play pump       85\n",
       "walimi                  48\n",
       "climax                  32\n",
       "Name: extraction_type, dtype: int64"
      ]
     },
     "execution_count": 409,
     "metadata": {},
     "output_type": "execute_result"
    }
   ],
   "source": [
    "data_trimmed.extraction_type.value_counts()"
   ]
  },
  {
   "cell_type": "code",
   "execution_count": 435,
   "metadata": {
    "ExecuteTime": {
     "end_time": "2021-09-27T16:45:14.588917Z",
     "start_time": "2021-09-27T16:45:14.345624Z"
    }
   },
   "outputs": [
    {
     "data": {
      "text/plain": [
       "Text(0.5, 1.0, 'Target dist when extraction_type is known')"
      ]
     },
     "execution_count": 435,
     "metadata": {},
     "output_type": "execute_result"
    },
    {
     "data": {
      "image/png": "[encoded data removed]",
      "text/plain": [
       "<Figure size 864x1296 with 2 Axes>"
      ]
     },
     "metadata": {},
     "output_type": "display_data"
    }
   ],
   "source": [
    "labels_one = data_trimmed.loc[data_trimmed.extraction_type == 'other'].target.value_counts().keys()\n",
    "sizes_one = data_trimmed.loc[data_trimmed.extraction_type == 'other'].target.value_counts().values\n",
    "\n",
    "labels_two = data_trimmed.loc[data_trimmed.extraction_type != 'other'].target.value_counts().keys()\n",
    "sizes_two = data_trimmed.loc[data_trimmed.extraction_type != 'other'].target.value_counts().values\n",
    "colours = {'functional': 'C0',\n",
    "           'non functional': 'C1',\n",
    "           'functional needs repair': 'C2',}\n",
    "\n",
    "fig, ax = plt.subplots(1, 2)\n",
    "\n",
    "ax[0].pie(sizes_one,\n",
    "          labels=labels_one,\n",
    "          colors=[colours[key] for key in labels_one])\n",
    "ax[0].set_title(\"Target dist when extraction_type is unknown\")\n",
    "\n",
    "ax[1].pie(sizes_two,\n",
    "          labels=labels_two,\n",
    "          colors=[colours[key] for key in labels_two])\n",
    "ax[1].set_title(\"Target dist when extraction_type is known\")\n"
   ]
  },
  {
   "cell_type": "markdown",
   "metadata": {},
   "source": [
    "# Conclusions\n",
    "### Based on the results we can confidently confirm the following conclusions:\n",
    "    -Lower altitude is causing problems\n",
    "    -Where waterpoint type is unkown there are less functional water pumps\n",
    "    -Where exttraction type is unknown there are less functional water pumps\n",
    "      "
   ]
  },
  {
   "cell_type": "markdown",
   "metadata": {},
   "source": [
    "# Further Work\n",
    "### Provided more time with this data, I am certain I can derive the following insights;\n",
    "- How pump functionality from differs region to region\n",
    "- How population can affect water-pump functionality\n",
    "- Determine how much water availability affect pump functionality"
   ]
  }
 ],
 "metadata": {
  "kernelspec": {
   "display_name": "Python (learn-env)",
   "language": "python",
   "name": "learn-env"
  },
  "language_info": {
   "codemirror_mode": {
    "name": "ipython",
    "version": 3
   },
   "file_extension": ".py",
   "mimetype": "text/x-python",
   "name": "python",
   "nbconvert_exporter": "python",
   "pygments_lexer": "ipython3",
   "version": "3.8.5"
  },
  "latex_envs": {
   "LaTeX_envs_menu_present": true,
   "autoclose": false,
   "autocomplete": true,
   "bibliofile": "biblio.bib",
   "cite_by": "apalike",
   "current_citInitial": 1,
   "eqLabelWithNumbers": true,
   "eqNumInitial": 1,
   "hotkeys": {
    "equation": "Ctrl-E",
    "itemize": "Ctrl-I"
   },
   "labels_anchors": false,
   "latex_user_defs": false,
   "report_style_numbering": false,
   "user_envs_cfg": false
  },
  "toc": {
   "base_numbering": 1,
   "nav_menu": {},
   "number_sections": true,
   "sideBar": true,
   "skip_h1_title": false,
   "title_cell": "Table of Contents",
   "title_sidebar": "Contents",
   "toc_cell": false,
   "toc_position": {},
   "toc_section_display": true,
   "toc_window_display": false
  }
 },
 "nbformat": 4,
 "nbformat_minor": 4
}
